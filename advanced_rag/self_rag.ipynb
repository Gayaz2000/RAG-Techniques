{
 "cells": [
  {
   "cell_type": "markdown",
   "id": "8836e503",
   "metadata": {},
   "source": [
    "# Self-RAG"
   ]
  },
  {
   "cell_type": "code",
   "execution_count": 1,
   "id": "db7ba720",
   "metadata": {},
   "outputs": [],
   "source": [
    "import os\n",
    "from dotenv import load_dotenv\n",
    "load_dotenv()\n",
    "\n",
    "os.environ[\"GROQ_API_KEY\"] = os.getenv(\"GROQ_API_KEY\")"
   ]
  },
  {
   "cell_type": "markdown",
   "id": "a255857d",
   "metadata": {},
   "source": [
    "#Helper functions"
   ]
  },
  {
   "cell_type": "code",
   "execution_count": 2,
   "id": "ed2c3454",
   "metadata": {},
   "outputs": [],
   "source": [
    "def replace_t_with_space(list_of_documents):\n",
    "    \"\"\"\n",
    "        Replace all the tab ('\\t') keys with white space in the page content of list of documents.\n",
    "\n",
    "        Args:\n",
    "            list_of_documents: A list of document obj, each with 'page_content' attribute.\n",
    "        Return:\n",
    "            The modified list of documents with tab characters replaced by white spaces\n",
    "    \"\"\"\n",
    "    for doc in list_of_documents:\n",
    "        doc.page_content = doc.page_content.replace('\\t', \" \")\n",
    "    return list_of_documents"
   ]
  },
  {
   "cell_type": "markdown",
   "id": "9b7e356e",
   "metadata": {},
   "source": [
    "#Database"
   ]
  },
  {
   "cell_type": "code",
   "execution_count": 3,
   "id": "9ec3d70d",
   "metadata": {},
   "outputs": [],
   "source": [
    "from langchain_community.document_loaders import PyPDFLoader\n",
    "from langchain_text_splitters import RecursiveCharacterTextSplitter\n",
    "from langchain_huggingface import HuggingFaceEmbeddings\n",
    "from langchain_community.vectorstores import FAISS\n",
    "#from helper_functions import Helpers\n",
    "\n",
    "class Data_Ingestion_Pipe:\n",
    "    \"\"\"\n",
    "    A pipeline that showcases the ingestion of documet data into vectorstore\n",
    "    \"\"\"\n",
    "    def __init__(self, file_path: str = r\"D:\\My Files\\RAG-Techniques\\RAG.pdf\"):\n",
    "        self.file_path = file_path\n",
    "        #self.helper_func = Helpers()\n",
    "        #self.embed_provider = Embedding_Provider()\n",
    "\n",
    "    \n",
    "    def encode_pdf(self, chunk_size: int =1000, chunk_overlap: int = 200):\n",
    "        \"\"\"\n",
    "        Set of setps to stores the pdf documents in vectorestore in the form of embeddings\n",
    "        Args:\n",
    "            file_path: denotes the location of the file\n",
    "            chunk_size : denote the size of each chunk the document to be split into\n",
    "            chunk_overlap: connecting words in each chunk\n",
    "\n",
    "        Return:\n",
    "            A FAISS vector store containing the encoded book content.\n",
    "        \"\"\"\n",
    "        #loads the pdf file\n",
    "        try:\n",
    "            loader = PyPDFLoader(self.file_path)\n",
    "            docs = loader.load()\n",
    "        except FileNotFoundError as e:\n",
    "            raise f\"Error occured: {e}\"\n",
    "        # split the doc file into chunks\n",
    "        text_splitter = RecursiveCharacterTextSplitter(\n",
    "            chunk_size = chunk_size, chunk_overlap = chunk_overlap\n",
    "        )\n",
    "        doc_chunks = text_splitter.split_documents(documents=docs)\n",
    "\n",
    "        cleaned_texts = replace_t_with_space(doc_chunks)\n",
    "        #embeddings\n",
    "        embedding = HuggingFaceEmbeddings(model_name=\"sentence-transformers/all-MiniLM-L6-v2\")\n",
    "        #vector db\n",
    "        faiss_vstore = FAISS.from_documents(cleaned_texts, embedding=embedding)\n",
    "        return faiss_vstore"
   ]
  },
  {
   "cell_type": "markdown",
   "id": "82499b68",
   "metadata": {},
   "source": [
    "#Retriever Function"
   ]
  },
  {
   "cell_type": "code",
   "execution_count": 4,
   "id": "323b45af",
   "metadata": {},
   "outputs": [],
   "source": [
    "def doc_retriever():\n",
    "    \"\"\"\n",
    "    retrieves top k similar documents\n",
    "    \"\"\"\n",
    "    obj = Data_Ingestion_Pipe()\n",
    "    vstore = obj.encode_pdf()\n",
    "    retriever = vstore.as_retriever(search_kwargs={\"k\": 3})\n",
    "    return retriever"
   ]
  },
  {
   "cell_type": "markdown",
   "id": "f214e504",
   "metadata": {},
   "source": [
    "#LLM "
   ]
  },
  {
   "cell_type": "code",
   "execution_count": 5,
   "id": "05d74c23",
   "metadata": {},
   "outputs": [],
   "source": [
    "from langchain_groq import ChatGroq\n",
    "\n",
    "llm = ChatGroq(model=\"llama3-8b-8192\",max_tokens=1000)"
   ]
  },
  {
   "cell_type": "markdown",
   "id": "aeff6c7b",
   "metadata": {},
   "source": [
    "#Prompt Templates"
   ]
  },
  {
   "cell_type": "code",
   "execution_count": 6,
   "id": "d9d0d651",
   "metadata": {},
   "outputs": [],
   "source": [
    "from pydantic import BaseModel, Field\n",
    "\n",
    "class RetrievalResponse(BaseModel):\n",
    "    response: str = Field(..., title=\"Check if the retrieval is relevant\", description=\"Output 'yes' or 'no' only\")"
   ]
  },
  {
   "cell_type": "code",
   "execution_count": 7,
   "id": "71f41896",
   "metadata": {},
   "outputs": [],
   "source": [
    "from langchain_core.prompts import PromptTemplate\n",
    "\n",
    "retrieval_prompt = PromptTemplate(\n",
    "    input_variables=[\"query\"],\n",
    "    template=\"Given the query '{query}', determine if retrieval is neccessary. Output only 'yes' or 'no' \"\n",
    ")"
   ]
  },
  {
   "cell_type": "code",
   "execution_count": 8,
   "id": "83adf0f1",
   "metadata": {},
   "outputs": [],
   "source": [
    "class RelevnaceResponse(BaseModel):\n",
    "    response: str = Field(..., title=\"Determine if the context is relevant\", description=\"Output only 'Relevent' or 'Irrelevant'\")"
   ]
  },
  {
   "cell_type": "code",
   "execution_count": 9,
   "id": "0524396a",
   "metadata": {},
   "outputs": [],
   "source": [
    "relevance_prompt = PromptTemplate(\n",
    "    input_variables=[\"query\", \"context\"],\n",
    "    template=\"Given the response '{query}', and context '{context}', determine if the context is relevent. Output only 'Relevent' or 'Irrelevant'\"\n",
    ")"
   ]
  },
  {
   "cell_type": "code",
   "execution_count": 10,
   "id": "e3f035f1",
   "metadata": {},
   "outputs": [],
   "source": [
    "class GenerateResponse(BaseModel):\n",
    "    response: str = Field(..., title=\"Generate response\", description=\"The generated response\")"
   ]
  },
  {
   "cell_type": "code",
   "execution_count": 11,
   "id": "ffd34a9b",
   "metadata": {},
   "outputs": [],
   "source": [
    "generation_prompt = PromptTemplate(\n",
    "    input_variables=[\"query\", \"context\"],\n",
    "    template=\"Given the query '{query}' and context '{context}', generate ther response.\"\n",
    ")"
   ]
  },
  {
   "cell_type": "code",
   "execution_count": 12,
   "id": "49f6d93c",
   "metadata": {},
   "outputs": [],
   "source": [
    "class SupportResponse(BaseModel):\n",
    "    response: str = Field(..., title=\"Determine if response is supported\", description=\"Output 'Fully Supported', 'Partially Supported' and 'Not supported'\")"
   ]
  },
  {
   "cell_type": "code",
   "execution_count": 13,
   "id": "49e75978",
   "metadata": {},
   "outputs": [],
   "source": [
    "support_prompt = PromptTemplate(\n",
    "    input_variables=[\"response\", \"context\"],\n",
    "    template=\"Given the response '{response}' and the context '{context}', determine if the response is supported by context. Output only 'Fully Supported', 'Partially Supported' or 'Not Supported'\"\n",
    ")"
   ]
  },
  {
   "cell_type": "code",
   "execution_count": 14,
   "id": "b60492e8",
   "metadata": {},
   "outputs": [],
   "source": [
    "class UtilityResponse(BaseModel):\n",
    "    response: str = Field(..., title=\"Utility rating\", description=\"Rate the utility of response from 1 to 5\")"
   ]
  },
  {
   "cell_type": "code",
   "execution_count": 15,
   "id": "7206cbf6",
   "metadata": {},
   "outputs": [],
   "source": [
    "utility_prompt = PromptTemplate(\n",
    "    input_variables=[\"query\", \"response\"],\n",
    "    template=\"Given the query '{query}', and the response '{response}', rate the utility of response from 1 to 5\"\n",
    ")"
   ]
  },
  {
   "cell_type": "markdown",
   "id": "21f1593d",
   "metadata": {},
   "source": [
    "#LLM Chain"
   ]
  },
  {
   "cell_type": "code",
   "execution_count": 16,
   "id": "4558e599",
   "metadata": {},
   "outputs": [],
   "source": [
    "retrieval_chain = retrieval_prompt | llm.with_structured_output(RetrievalResponse)\n",
    "relevance_chain = relevance_prompt | llm.with_structured_output(RelevnaceResponse)\n",
    "generation_chain = generation_prompt | llm.with_structured_output(GenerateResponse)\n",
    "support_chain = support_prompt | llm.with_structured_output(SupportResponse)\n",
    "utility_chain = utility_prompt | llm.with_structured_output(UtilityResponse)"
   ]
  },
  {
   "cell_type": "markdown",
   "id": "ad67b26f",
   "metadata": {},
   "source": [
    "#Self-RAG Flow"
   ]
  },
  {
   "cell_type": "code",
   "execution_count": 17,
   "id": "ac21045a",
   "metadata": {},
   "outputs": [],
   "source": [
    "def self_rag(query, vectorstore, top_k=3):\n",
    "    print(f\"\\nProcessing query: {query}\")\n",
    "    \n",
    "    # Step 1: Determine if retrieval is necessary\n",
    "    print(\"Step 1: Determining if retrieval is necessary...\")\n",
    "    input_data = {\"query\": query}\n",
    "    retrieval_decision = retrieval_chain.invoke(input_data).response.strip().lower()\n",
    "    print(f\"Retrieval decision: {retrieval_decision}\")\n",
    "    \n",
    "    if retrieval_decision == 'yes':\n",
    "        # Step 2: Retrieve relevant documents\n",
    "        print(\"Step 2: Retrieving relevant documents...\")\n",
    "        docs = vectorstore.similarity_search(query, k=top_k)\n",
    "        contexts = [doc.page_content for doc in docs]\n",
    "        print(f\"Retrieved {len(contexts)} documents\")\n",
    "        \n",
    "        # Step 3: Evaluate relevance of retrieved documents\n",
    "        print(\"Step 3: Evaluating relevance of retrieved documents...\")\n",
    "        relevant_contexts = []\n",
    "        for i, context in enumerate(contexts):\n",
    "            input_data = {\"query\": query, \"context\": context}\n",
    "            relevance = relevance_chain.invoke(input_data).response.strip().lower()\n",
    "            print(f\"Document {i+1} relevance: {relevance}\")\n",
    "            if relevance == 'relevant':\n",
    "                relevant_contexts.append(context)\n",
    "        \n",
    "        print(f\"Number of relevant contexts: {len(relevant_contexts)}\")\n",
    "        \n",
    "        # If no relevant contexts found, generate without retrieval\n",
    "        if not relevant_contexts:\n",
    "            print(\"No relevant contexts found. Generating without retrieval...\")\n",
    "            input_data = {\"query\": query, \"context\": \"No relevant context found.\"}\n",
    "            return generation_chain.invoke(input_data).response\n",
    "        \n",
    "        # Step 4: Generate response using relevant contexts\n",
    "        print(\"Step 4: Generating responses using relevant contexts...\")\n",
    "        responses = []\n",
    "        for i, context in enumerate(relevant_contexts):\n",
    "            print(f\"Generating response for context {i+1}...\")\n",
    "            input_data = {\"query\": query, \"context\": context}\n",
    "            response = generation_chain.invoke(input_data).response\n",
    "            \n",
    "            # Step 5: Assess support\n",
    "            print(f\"Step 5: Assessing support for response {i+1}...\")\n",
    "            input_data = {\"response\": response, \"context\": context}\n",
    "            support = support_chain.invoke(input_data).response.strip().lower()\n",
    "            print(f\"Support assessment: {support}\")\n",
    "            \n",
    "            # Step 6: Evaluate utility\n",
    "            print(f\"Step 6: Evaluating utility for response {i+1}...\")\n",
    "            input_data = {\"query\": query, \"response\": response}\n",
    "            utility = int(utility_chain.invoke(input_data).response)\n",
    "            print(f\"Utility score: {utility}\")\n",
    "            \n",
    "            responses.append((response, support, utility))\n",
    "        \n",
    "        # Select the best response based on support and utility\n",
    "        print(\"Selecting the best response...\")\n",
    "        best_response = max(responses, key=lambda x: (x[1] == 'fully supported', x[2]))\n",
    "        print(f\"Best response support: {best_response[1]}, utility: {best_response[2]}\")\n",
    "        return best_response[0]\n",
    "    else:\n",
    "        # Generate without retrieval\n",
    "        print(\"Generating without retrieval...\")\n",
    "        input_data = {\"query\": query, \"context\": \"No retrieval necessary.\"}\n",
    "        return generation_chain.invoke(input_data).response\n"
   ]
  },
  {
   "cell_type": "code",
   "execution_count": 18,
   "id": "42138df9",
   "metadata": {},
   "outputs": [
    {
     "name": "stderr",
     "output_type": "stream",
     "text": [
      "d:\\My Files\\RAG-Techniques\\.venv\\Lib\\site-packages\\tqdm\\auto.py:21: TqdmWarning: IProgress not found. Please update jupyter and ipywidgets. See https://ipywidgets.readthedocs.io/en/stable/user_install.html\n",
      "  from .autonotebook import tqdm as notebook_tqdm\n"
     ]
    },
    {
     "name": "stdout",
     "output_type": "stream",
     "text": [
      "\n",
      "Processing query: What is the impact of climate change on the environment?\n",
      "Step 1: Determining if retrieval is necessary...\n",
      "Retrieval decision: yes\n",
      "Step 2: Retrieving relevant documents...\n",
      "Retrieved 3 documents\n",
      "Step 3: Evaluating relevance of retrieved documents...\n",
      "Document 1 relevance: irrelevant\n",
      "Document 2 relevance: irrelevant\n",
      "Document 3 relevance: relevant\n",
      "Number of relevant contexts: 1\n",
      "Step 4: Generating responses using relevant contexts...\n",
      "Generating response for context 1...\n",
      "Step 5: Assessing support for response 1...\n",
      "Support assessment: fully supported\n",
      "Step 6: Evaluating utility for response 1...\n",
      "Utility score: 4\n",
      "Selecting the best response...\n",
      "Best response support: fully supported, utility: 4\n",
      "\n",
      "Final response:\n",
      "The impact of climate change on the environment is a pressing concern that requires immediate attention. Rising global temperatures are causing melting of polar ice caps, sea-level rise, and extreme weather events, which have devastating effects on ecosystems and human societies.\n"
     ]
    }
   ],
   "source": [
    "query = \"What is the impact of climate change on the environment?\"\n",
    "vectorstore = Data_Ingestion_Pipe().encode_pdf()\n",
    "response = self_rag(query, vectorstore)\n",
    "\n",
    "print(\"\\nFinal response:\")\n",
    "print(response)"
   ]
  },
  {
   "cell_type": "code",
   "execution_count": 19,
   "id": "7a44c3b9",
   "metadata": {},
   "outputs": [
    {
     "name": "stdout",
     "output_type": "stream",
     "text": [
      "\n",
      "Processing query: What are Different types of rag?\n",
      "Step 1: Determining if retrieval is necessary...\n",
      "Retrieval decision: yes\n",
      "Step 2: Retrieving relevant documents...\n",
      "Retrieved 3 documents\n",
      "Step 3: Evaluating relevance of retrieved documents...\n",
      "Document 1 relevance: relevent\n",
      "Document 2 relevance: relevent\n",
      "Document 3 relevance: relevant\n",
      "Number of relevant contexts: 1\n",
      "Step 4: Generating responses using relevant contexts...\n",
      "Generating response for context 1...\n",
      "Step 5: Assessing support for response 1...\n",
      "Support assessment: partially supported\n",
      "Step 6: Evaluating utility for response 1...\n",
      "Utility score: 4\n",
      "Selecting the best response...\n",
      "Best response support: partially supported, utility: 4\n",
      "\n",
      "Final response:\n",
      "RAG models are classified into two main categories: Graph-based RAG and Sequence-based RAG. Graph-based RAG models, such as Graph-RAG, use graph neural networks to retrieve relevant text passages and incorporate them into the target sequence. Sequence-based RAG models, on the other hand, utilize sequence-to-sequence models to retrieve text passages and leverage them as additional context when generating the target sequence.\n"
     ]
    }
   ],
   "source": [
    "query = \"What are Different types of rag?\"\n",
    "response = self_rag(query, vectorstore)\n",
    "\n",
    "print(\"\\nFinal response:\")\n",
    "print(response)"
   ]
  },
  {
   "cell_type": "code",
   "execution_count": null,
   "id": "902f7a02",
   "metadata": {},
   "outputs": [],
   "source": []
  }
 ],
 "metadata": {
  "kernelspec": {
   "display_name": ".venv",
   "language": "python",
   "name": "python3"
  },
  "language_info": {
   "codemirror_mode": {
    "name": "ipython",
    "version": 3
   },
   "file_extension": ".py",
   "mimetype": "text/x-python",
   "name": "python",
   "nbconvert_exporter": "python",
   "pygments_lexer": "ipython3",
   "version": "3.13.3"
  }
 },
 "nbformat": 4,
 "nbformat_minor": 5
}
