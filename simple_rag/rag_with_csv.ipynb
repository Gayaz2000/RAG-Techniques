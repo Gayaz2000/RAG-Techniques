{
 "cells": [
  {
   "cell_type": "code",
   "execution_count": 1,
   "id": "f88ed514",
   "metadata": {},
   "outputs": [],
   "source": [
    "from langchain_ollama import ChatOllama, OllamaEmbeddings\n",
    "\n",
    "llm = ChatOllama(model=\"llama3.2:1b\")"
   ]
  },
  {
   "cell_type": "code",
   "execution_count": null,
   "id": "651d63ae",
   "metadata": {},
   "outputs": [],
   "source": [
    "from langchain_community.document_loaders import CSVLoader\n",
    "from langchain_text_splitters import RecursiveCharacterTextSplitter\n",
    "from langchain_community.vectorstores import FAISS\n",
    "from langchain_community.docstore import InMemoryDocstore\n",
    "import faiss\n",
    "\n",
    "class DataIngestion:\n",
    "    def __init__(self, file_path):\n",
    "        self.file_path = file_path\n",
    "        self.vstore = None\n",
    "    async def vectorDB(self):\n",
    "        \"\"\"\n",
    "        Creates a vector store that can store document embeddings a svectors\n",
    "        \"\"\"\n",
    "        loader = CSVLoader(file_path=self.file_path)\n",
    "        docs = await loader.alazy_load()\n",
    "\n",
    "        #splitter\n",
    "        text_spliter = RecursiveCharacterTextSplitter(chunk_size=1000, chunck_overlap=200)\n",
    "        doc_splits = text_spliter.split_documents(docs)\n",
    "\n",
    "        #Embeddings\n",
    "        ollama_embedding = OllamaEmbeddings(model=\"llama3.2:1b\")\n",
    "\n",
    "        #Index creation\n",
    "        vector_indexes = faiss.IndexFlatL2(ollama_embedding.embed_query(\" \"))\n",
    "\n",
    "        #Create FAISS vectorstore\n",
    "        self.vstore = FAISS(\n",
    "            embedding_function= ollama_embedding,\n",
    "            index= vector_indexes,\n",
    "            docstore= InMemoryDocstore(),\n",
    "            index_to_docstore_id= {},\n",
    "        )\n",
    "        #Add documnts to vector store\n",
    "        _ = await self.vstore.aadd_documents(doc_splits)\n",
    "\n",
    "        return self.vstore"
   ]
  },
  {
   "cell_type": "code",
   "execution_count": null,
   "id": "ddfac4f6",
   "metadata": {},
   "outputs": [],
   "source": [
    "async def retriever(file_path: str):\n",
    "    \"\"\"\n",
    "    Creates a retriever using Data ingestion class and vectorDB method\n",
    "    \"\"\"\n",
    "    ingestion_obj = DataIngestion(file_path= file_path)\n",
    "    vdb = ingestion_obj.vectorDB()\n",
    "    retriever = vdb.as_retriever()\n",
    "    return retriever"
   ]
  },
  {
   "cell_type": "code",
   "execution_count": null,
   "id": "617e67f9",
   "metadata": {},
   "outputs": [],
   "source": [
    "from langchain_core.prompts import ChatPromptTemplate\n",
    "from langchain.chains import create_retrieval_chain\n",
    "from langchain.chains.combine_documents import create_stuff_documents_chain\n",
    "\n",
    "class RAGAgent:\n",
    "    def __init__(self, llm, query):\n",
    "        self.retriever = retriever()\n",
    "        self.llm = llm\n",
    "        self.query = query\n",
    "\n",
    "    async def rag_chain_response(self):\n",
    "        \"\"\"\n",
    "        creates an a flow to retrieve similar documents for search query and pass it to llam as context for better response\n",
    "        \"\"\"\n",
    "        system_prompt = (\n",
    "            \"You are an assistant for question-answering tasks. \"\n",
    "            \"Use the following pieces of retrieved context to answer \"\n",
    "            \"the question. If you don't know the answer, say that you \"\n",
    "            \"don't know. Use three sentences maximum and keep the \"\n",
    "            \"answer concise.\"\n",
    "            \"\\n\\n\"\n",
    "            \"{context}\"\n",
    "        )\n",
    "        prompt = ChatPromptTemplate.from_messages(\n",
    "            [\n",
    "                (\"system\", system_prompt),\n",
    "                (\"user\", \"{self.query}\")\n",
    "            ]\n",
    "        )\n",
    "\n",
    "        qa_chain = create_stuff_documents_chain(self.llm, prompt)\n",
    "        rag_chain = create_retrieval_chain(self.retriever, qa_chain)\n",
    "        response =await  rag_chain.ainvoke(self.query)\n",
    "        return response\n",
    "\n"
   ]
  },
  {
   "cell_type": "code",
   "execution_count": null,
   "id": "620ac52a",
   "metadata": {},
   "outputs": [],
   "source": [
    "import nest_asyncio\n",
    "nest_asyncio.apply()\n",
    "\n",
    "if __name__ == \"__main__\":\n",
    "    query = input(\"Enter yor query: \")\n",
    "    rag_obj = RAGAgent(llm, query)\n",
    "    response = rag_obj.rag_chain_response()\n",
    "    print(response)"
   ]
  }
 ],
 "metadata": {
  "kernelspec": {
   "display_name": ".venv",
   "language": "python",
   "name": "python3"
  },
  "language_info": {
   "codemirror_mode": {
    "name": "ipython",
    "version": 3
   },
   "file_extension": ".py",
   "mimetype": "text/x-python",
   "name": "python",
   "nbconvert_exporter": "python",
   "pygments_lexer": "ipython3",
   "version": "3.13.3"
  }
 },
 "nbformat": 4,
 "nbformat_minor": 5
}
