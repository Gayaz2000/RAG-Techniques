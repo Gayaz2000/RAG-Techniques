{
 "cells": [
  {
   "cell_type": "markdown",
   "id": "2aeeffef",
   "metadata": {},
   "source": [
    "# Query Transformations"
   ]
  },
  {
   "cell_type": "code",
   "execution_count": 1,
   "id": "90a39794",
   "metadata": {},
   "outputs": [],
   "source": [
    "import os\n",
    "from dotenv import load_dotenv\n",
    "load_dotenv()\n",
    "\n",
    "os.environ[\"GROQ_API_KEY\"] = os.getenv(\"GROQ_API_KEY\")"
   ]
  },
  {
   "cell_type": "code",
   "execution_count": 2,
   "id": "86d67bdd",
   "metadata": {},
   "outputs": [],
   "source": [
    "from langchain_groq import ChatGroq\n",
    "\n",
    "llm = ChatGroq(model=\"llama3-8b-8192\", max_tokens=1000)"
   ]
  },
  {
   "cell_type": "markdown",
   "id": "d5f02d24",
   "metadata": {},
   "source": [
    "#Query Rewriter"
   ]
  },
  {
   "cell_type": "code",
   "execution_count": 3,
   "id": "80f48f8f",
   "metadata": {},
   "outputs": [
    {
     "name": "stdout",
     "output_type": "stream",
     "text": [
      "Based on the original query, I would rewrite it to:\n",
      "\n",
      "\"What are the specific physical, biological, and ecological impacts of climate change on the environment, including changes in temperature, precipitation, sea-level rise, and extreme weather events, and how do these impacts affect ecosystems, biodiversity, and human settlements?\"\n",
      "\n",
      "Rewritten query highlights:\n",
      "\n",
      "1. **Specificity**: It focuses on specific aspects of climate change, such as temperature, precipitation, sea-level rise, and extreme weather events, making it more targeted for RAG system.\n",
      "2. **Context**: It adds context by mentioning the impact on ecosystems, biodiversity, and human settlements, making it more relevant and likely to retrieve specific information.\n",
      "3. **Technical terms**: Incorporating technical terms like \"physical, biological, and ecological impacts\" can help RAG system retrieve more accurate and detailed information.\n",
      "4. **Clarity**: The rewritten query is more concise and clear, reducing ambiguity and increasing the chances of retrieving relevant information.\n",
      "\n",
      "This rewritten query is more likely to retrieve specific and detailed information from the RAG system, providing a better understanding of the impacts of climate change on the environment.\n"
     ]
    }
   ],
   "source": [
    "from langchain_core.prompts import PromptTemplate\n",
    "import nest_asyncio\n",
    "nest_asyncio.apply()\n",
    "\n",
    "import asyncio\n",
    "\n",
    "rewriter_prompt = \"\"\"\n",
    "    You are an AI assistant, Your task is to reformulate new queries for RAG syatem for better context retrieval.\n",
    "    Given the original query, rewrite it into more specific, detailed and likely to retrieve relevent information \n",
    "    Original_Query: {query}\n",
    "    Rewritten_Query:\n",
    "\"\"\"\n",
    "\n",
    "query_rewrite_prompt = PromptTemplate(\n",
    "    input_variables=[\"query\"],\n",
    "    template = rewriter_prompt\n",
    ")\n",
    "\n",
    "query_rewriter = query_rewrite_prompt | llm\n",
    "\n",
    "async def rewrite_query(original_query):\n",
    "    \"\"\"\n",
    "    Rewrite the original query to improve retrieval.\n",
    "    \n",
    "    Args:\n",
    "    original_query (str): The original user query\n",
    "    \n",
    "    Returns:\n",
    "    str: The rewritten query\n",
    "    \"\"\"\n",
    "    response = await query_rewriter.ainvoke(original_query)\n",
    "    return response.content\n",
    "\n",
    "if __name__ == \"__main__\":\n",
    "    original_query = \"What are the impacts of climate change on the environment?\"\n",
    "    print(asyncio.run(rewrite_query(original_query)))\n",
    "    #print(\"Original query:\", original_query)\n",
    "    #print(\"\\nRewritten query:\", rewritten_query)"
   ]
  },
  {
   "cell_type": "markdown",
   "id": "a78e36fc",
   "metadata": {},
   "source": [
    "#Step-back Prompting"
   ]
  },
  {
   "cell_type": "code",
   "execution_count": 4,
   "id": "9f0dcfff",
   "metadata": {},
   "outputs": [
    {
     "name": "stdout",
     "output_type": "stream",
     "text": [
      "Based on the original query, a step-back query that is more general and can help retrieve relevant background information could be:\n",
      "\n",
      "\"What are the main factors that affect the environment?\"\n",
      "\n",
      "This step-back query is more general because it:\n",
      "\n",
      "1. Shifts the focus from a specific topic (climate change) to a broader category (environmental factors).\n",
      "2. Encourages the retrieval of background information on various environmental factors, which can provide a better understanding of the context surrounding climate change.\n",
      "\n",
      "By generating this more general query, the RAG system can retrieve relevant information on various environmental factors, such as pollution, deforestation, population growth, and human activity, which can help provide a more comprehensive understanding of the issue.\n"
     ]
    }
   ],
   "source": [
    "step_back_template = \"\"\"You are an AI assistant tasked with generating broader, more general queries to improve context retrieval in a RAG system.\n",
    "Given the original query, generate a step-back query that is more general and can help retrieve relevant background information.\n",
    "\n",
    "Original query: {original_query}\n",
    "\n",
    "Step-back query:\"\"\"\n",
    "\n",
    "step_back_prompt = PromptTemplate(\n",
    "    input_variables=[\"original_query\"],\n",
    "    template=step_back_template\n",
    ")\n",
    "\n",
    "step_back_chain = step_back_prompt | llm\n",
    "\n",
    "async def generate_step_back_query(original_query):\n",
    "    \"\"\"\n",
    "    Generate a step-back query to retrieve broader context.\n",
    "    \n",
    "    Args:\n",
    "    original_query (str): The original user query\n",
    "    \n",
    "    Returns:\n",
    "    str: The step-back query\n",
    "    \"\"\"\n",
    "    response = await step_back_chain.ainvoke(original_query)\n",
    "    return response.content\n",
    "\n",
    "if __name__ == \"__main__\":\n",
    "    original_query = \"What are the impacts of climate change on the environment?\"\n",
    "    print(asyncio.run(generate_step_back_query(original_query)))"
   ]
  },
  {
   "cell_type": "markdown",
   "id": "1e938f33",
   "metadata": {},
   "source": [
    "#Sub-Query Decomposition"
   ]
  },
  {
   "cell_type": "code",
   "execution_count": 9,
   "id": "304d6424",
   "metadata": {},
   "outputs": [
    {
     "name": "stdout",
     "output_type": "stream",
     "text": [
      "\n",
      "Sub-queries:\n",
      "Here are the decomposed sub-queries for the original query:\n",
      "1. What are the effects of AI on human relationships?\n",
      "2. How does AI influence job market and employment?\n",
      "3. What are the impacts of AI on education and learning?\n",
      "4. How does AI affect healthcare and medical services?\n"
     ]
    }
   ],
   "source": [
    "subquery_decomposition_template = \"\"\"\n",
    "    You are ans AI assistant tasked with decomposing the original query into sub queries for better retrieval in RAG system.\n",
    "    Given the original query, decompose it into 2-4 simpler sub-queries that, when answered together, would provide a comprehensive response to the original query.\n",
    "    Original Query: {original_query}\n",
    "    \n",
    "    example: What are the impacts of climate change on the environment?\n",
    "    Sub-queries:\n",
    "    1. What are the impacts of climate change on biodiversity?\n",
    "    2. How does climate change affect the oceans?\n",
    "    3. What are the effects of climate change on agriculture?\n",
    "    4. What are the impacts of climate change on human health?\n",
    "\n",
    "    Only return questions, DO NOT provide any additional explanation.\n",
    "\"\"\"\n",
    "\n",
    "subquery_decomposition_prompt = PromptTemplate(\n",
    "    input_variables=[\"original_query\"],\n",
    "    template=subquery_decomposition_template\n",
    ")\n",
    "\n",
    "subquery_decomposer_chain = subquery_decomposition_prompt | llm\n",
    "\n",
    "async def decompose_query(original_query: str):\n",
    "    \"\"\"\n",
    "    Decompose the original query into simpler sub-queries.\n",
    "    \n",
    "    Args:\n",
    "    original_query (str): The original complex query\n",
    "    \n",
    "    Returns:\n",
    "    List[str]: A list of simpler sub-queries\n",
    "    \"\"\"\n",
    "    response = await subquery_decomposer_chain.ainvoke(original_query)\n",
    "    \n",
    "    return response\n",
    "\n",
    "original_query = \"What are the impacts of ai in human life?\"\n",
    "sub_queries = asyncio.run(decompose_query(original_query))\n",
    "response = sub_queries.content\n",
    "sub_queries = [q.strip() for q in response.split('\\n') if q.strip() and not q.strip().startswith('Sub-queries:')]\n",
    "print(\"\\nSub-queries:\")\n",
    "for i, sub_query in enumerate(sub_queries, 1):\n",
    "    print(sub_query)"
   ]
  },
  {
   "cell_type": "code",
   "execution_count": null,
   "id": "beaff7fa",
   "metadata": {},
   "outputs": [],
   "source": []
  }
 ],
 "metadata": {
  "kernelspec": {
   "display_name": ".venv",
   "language": "python",
   "name": "python3"
  },
  "language_info": {
   "codemirror_mode": {
    "name": "ipython",
    "version": 3
   },
   "file_extension": ".py",
   "mimetype": "text/x-python",
   "name": "python",
   "nbconvert_exporter": "python",
   "pygments_lexer": "ipython3",
   "version": "3.13.3"
  }
 },
 "nbformat": 4,
 "nbformat_minor": 5
}
