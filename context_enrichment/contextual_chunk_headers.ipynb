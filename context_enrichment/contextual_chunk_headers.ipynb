{
 "cells": [
  {
   "cell_type": "markdown",
   "id": "e8238034",
   "metadata": {},
   "source": [
    "# Contextual Chunk Headers (CCH)"
   ]
  },
  {
   "cell_type": "code",
   "execution_count": 3,
   "id": "b7b399d0",
   "metadata": {},
   "outputs": [],
   "source": [
    "import os\n",
    "from dotenv import load_dotenv\n",
    "load_dotenv()\n",
    "\n",
    "os.environ[\"GROQ_API_KEY\"] = os.getenv(\"GROQ_API_KEY\")\n",
    "os.environ[\"COHERE_API_KEY\"] = os.getenv(\"COHERE_API_KEY\")"
   ]
  },
  {
   "cell_type": "code",
   "execution_count": 2,
   "id": "9b8fa239",
   "metadata": {},
   "outputs": [],
   "source": [
    "from langchain_groq import ChatGroq\n",
    "\n",
    "llm = ChatGroq(model=\"llama3-8b-8192\", max_tokens=1000)"
   ]
  },
  {
   "cell_type": "markdown",
   "id": "cb5fe670",
   "metadata": {},
   "source": [
    "#Split into chunks"
   ]
  },
  {
   "cell_type": "code",
   "execution_count": 5,
   "id": "c1f7a832",
   "metadata": {},
   "outputs": [],
   "source": [
    "from langchain_community.document_loaders import PyPDFLoader\n",
    "\n",
    "async def load_pdf_data(filepath: str):\n",
    "    \"\"\"Loads the data from pdf file\"\"\"\n",
    "    loader = PyPDFLoader(file_path=filepath)\n",
    "    documents = await loader.aload()\n",
    "    return documents"
   ]
  },
  {
   "cell_type": "code",
   "execution_count": 6,
   "id": "a55e393d",
   "metadata": {},
   "outputs": [],
   "source": [
    "from langchain.text_splitter import RecursiveCharacterTextSplitter\n",
    "\n",
    "async def split_into_chunks(text: str, chunk_size: int = 800) -> list[str]:\n",
    "    \"\"\"\n",
    "    Split a given text into chunks of specified size using RecursiveCharacterTextSplitter.\n",
    "\n",
    "    Args:\n",
    "        text (str): The input text to be split into chunks.\n",
    "        chunk_size (int, optional): The maximum size of each chunk. Defaults to 800.\n",
    "\n",
    "    Returns:\n",
    "        list[str]: A list of text chunks.\n",
    "\n",
    "    Example:\n",
    "        >>> text = \"This is a sample text to be split into chunks.\"\n",
    "        >>> chunks = split_into_chunks(text, chunk_size=10)\n",
    "        >>> print(chunks)\n",
    "        ['This is a', 'sample', 'text to', 'be split', 'into', 'chunks.']\n",
    "    \"\"\"\n",
    "    text_splitter = RecursiveCharacterTextSplitter(\n",
    "        chunk_size=chunk_size,\n",
    "        chunk_overlap=0,\n",
    "        length_function=len\n",
    "    )\n",
    "    documents =  text_splitter.create_documents([text])\n",
    "    return [document.page_content for document in documents]"
   ]
  },
  {
   "cell_type": "code",
   "execution_count": 10,
   "id": "2b37da0b",
   "metadata": {},
   "outputs": [],
   "source": [
    "import nest_asyncio\n",
    "nest_asyncio.apply()\n",
    "\n",
    "import asyncio\n",
    "\n",
    "FILE_PATH = r\"D:\\My Files\\RAG-Techniques\\RAG.pdf\"\n",
    "\n",
    "documents = asyncio.run(load_pdf_data(FILE_PATH))\n",
    "document_text = \" \".join([document.page_content for document in documents])\n",
    "chunks = asyncio.run(split_into_chunks(document_text))"
   ]
  },
  {
   "cell_type": "code",
   "execution_count": 12,
   "id": "887cf542",
   "metadata": {},
   "outputs": [
    {
     "name": "stdout",
     "output_type": "stream",
     "text": [
      "Retrieval-Augmented Generation for\n",
      "Knowledge-Intensive NLP Tasks\n",
      "Patrick Lewis†‡, Ethan Perez⋆,\n",
      "Aleksandra Piktus†, Fabio Petroni†, Vladimir Karpukhin†, Naman Goyal†, Heinrich Küttler†,\n",
      "Mike Lewis†, Wen-tau Yih†, Tim Rocktäschel†‡, Sebastian Riedel†‡, Douwe Kiela†\n",
      "†Facebook AI Research; ‡University College London; ⋆New York University;\n",
      "plewis@fb.com\n",
      "Abstract\n",
      "Large pre-trained language models have been shown to store factual knowledge\n",
      "in their parameters, and achieve state-of-the-art results when ﬁne-tuned on down-\n",
      "stream NLP tasks. However, their ability to access and precisely manipulate knowl-\n",
      "edge is still limited, and hence on knowledge-intensive tasks, their performance\n",
      "lags behind task-speciﬁc architectures. Additionally, providing provenance for their\n"
     ]
    }
   ],
   "source": [
    "print(chunks[0])"
   ]
  },
  {
   "cell_type": "markdown",
   "id": "4ce54eb5",
   "metadata": {},
   "source": [
    "#Generate Descriptive Document title"
   ]
  },
  {
   "cell_type": "code",
   "execution_count": 13,
   "id": "27a8dd80",
   "metadata": {},
   "outputs": [],
   "source": [
    "DOCUMENT_TITLE_PROMPT = \"\"\"\n",
    "INSTRUCTIONS\n",
    "What is the title of the following document?\n",
    "\n",
    "Your response MUST be the title of the document, and nothing else. DO NOT respond with anything else.\n",
    "\n",
    "{document_title_guidance}\n",
    "\n",
    "{truncation_message}\n",
    "\n",
    "DOCUMENT\n",
    "{document_text}\n",
    "\"\"\".strip()"
   ]
  },
  {
   "cell_type": "code",
   "execution_count": 14,
   "id": "fca33ba5",
   "metadata": {},
   "outputs": [],
   "source": [
    "TRUNCATION_MESSAGE = \"\"\"\n",
    "Also note that the document text provided below is just the first ~{num_words} words of the document. That should be plenty for this task. Your response should still pertain to the entire document, not just the text provided below.\n",
    "\"\"\".strip()"
   ]
  },
  {
   "cell_type": "code",
   "execution_count": 16,
   "id": "59ed909e",
   "metadata": {},
   "outputs": [],
   "source": [
    "from langchain_huggingface import HuggingFaceEmbeddings\n",
    "\n",
    "MAX_CONTENT_TOKENS = 4000\n",
    "\n",
    "async def make_llm_call(chat_messages: list[dict]) -> str:\n",
    "    \"\"\"\n",
    "    Make an API call to the Groq language model.\n",
    "\n",
    "    Args:\n",
    "        chat_messages (list[dict]): A list of message dictionaries for the chat completion.\n",
    "\n",
    "    Returns:\n",
    "        str: The generated response from the language model.\n",
    "    \"\"\"\n",
    "    llm = ChatGroq(model=\"llama3-8b-8192\", max_tokens= MAX_CONTENT_TOKENS, temperature=0.2)\n",
    "    response = await llm.ainvoke(chat_messages)\n",
    "    return response"
   ]
  },
  {
   "cell_type": "code",
   "execution_count": 1,
   "id": "8d0c25d8",
   "metadata": {},
   "outputs": [
    {
     "ename": "ModuleNotFoundError",
     "evalue": "No module named 'tiktoken'",
     "output_type": "error",
     "traceback": [
      "\u001b[31m---------------------------------------------------------------------------\u001b[39m",
      "\u001b[31mModuleNotFoundError\u001b[39m                       Traceback (most recent call last)",
      "\u001b[36mCell\u001b[39m\u001b[36m \u001b[39m\u001b[32mIn[1]\u001b[39m\u001b[32m, line 1\u001b[39m\n\u001b[32m----> \u001b[39m\u001b[32m1\u001b[39m \u001b[38;5;28;01mimport\u001b[39;00m\u001b[38;5;250m \u001b[39m\u001b[34;01mtiktoken\u001b[39;00m\n\u001b[32m      3\u001b[39m TOKEN_ENCODER = tiktoken.encoding_for_model(\u001b[33m\"\u001b[39m\u001b[33mllama3-8b-8192\u001b[39m\u001b[33m\"\u001b[39m)\n\u001b[32m      5\u001b[39m \u001b[38;5;28;01mdef\u001b[39;00m\u001b[38;5;250m \u001b[39m\u001b[34mtruncate_content\u001b[39m(content: \u001b[38;5;28mstr\u001b[39m, max_tokens: \u001b[38;5;28mint\u001b[39m) -> \u001b[38;5;28mtuple\u001b[39m[\u001b[38;5;28mstr\u001b[39m, \u001b[38;5;28mint\u001b[39m]:\n",
      "\u001b[31mModuleNotFoundError\u001b[39m: No module named 'tiktoken'"
     ]
    }
   ],
   "source": [
    "import tiktoken\n",
    "\n",
    "TOKEN_ENCODER = tiktoken.encoding_for_model(\"llama3-8b-8192\")\n",
    "\n",
    "def truncate_content(content: str, max_tokens: int) -> tuple[str, int]:\n",
    "    \"\"\"\n",
    "    Truncate the content to a specified maximum number of tokens.\n",
    "\n",
    "    Args:\n",
    "        content (str): The input text to be truncated.\n",
    "        max_tokens (int): The maximum number of tokens to keep.\n",
    "\n",
    "    Returns:\n",
    "        tuple[str, int]: A tuple containing the truncated content and the number of tokens.\n",
    "    \"\"\"\n",
    "    tokens = TOKEN_ENCODER.encode(content)\n",
    "    truncated_tokens = tokens[:max_tokens]\n",
    "    return TOKEN_ENCODER.decode(truncated_tokens),  min(len(tokens), max_tokens)"
   ]
  },
  {
   "cell_type": "code",
   "execution_count": null,
   "id": "09ebb6bd",
   "metadata": {},
   "outputs": [],
   "source": []
  }
 ],
 "metadata": {
  "kernelspec": {
   "display_name": ".venv",
   "language": "python",
   "name": "python3"
  },
  "language_info": {
   "codemirror_mode": {
    "name": "ipython",
    "version": 3
   },
   "file_extension": ".py",
   "mimetype": "text/x-python",
   "name": "python",
   "nbconvert_exporter": "python",
   "pygments_lexer": "ipython3",
   "version": "3.13.3"
  }
 },
 "nbformat": 4,
 "nbformat_minor": 5
}
