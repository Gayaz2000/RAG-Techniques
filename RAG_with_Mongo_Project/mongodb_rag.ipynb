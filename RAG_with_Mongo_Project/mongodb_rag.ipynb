{
 "cells": [
  {
   "cell_type": "markdown",
   "id": "d1566eac",
   "metadata": {},
   "source": [
    "# Agentic RAG WITH MongoDB"
   ]
  },
  {
   "cell_type": "code",
   "execution_count": 34,
   "id": "75fdbd7a",
   "metadata": {},
   "outputs": [],
   "source": [
    "import os\n",
    "from dotenv import load_dotenv\n",
    "load_dotenv()\n",
    "\n",
    "os.environ[\"GROQ_API_KEY\"] = os.getenv(\"GROQ_API_KEY\")\n",
    "os.environ[\"GOOGLE_API_KEY\"] = os.getenv(\"GOOGLE_API_KEY\")\n",
    "os.environ[\"MONGODB_URI\"] = os.getenv(\"MONGODB_URI\")"
   ]
  },
  {
   "cell_type": "code",
   "execution_count": 17,
   "id": "7323e0fb",
   "metadata": {},
   "outputs": [],
   "source": [
    "from langchain_groq import ChatGroq\n",
    "\n",
    "llm = ChatGroq(model=\"llama3-8b-8192\")"
   ]
  },
  {
   "cell_type": "markdown",
   "id": "ff56b350",
   "metadata": {},
   "source": [
    "#Dataset Loading And Preparation"
   ]
  },
  {
   "cell_type": "code",
   "execution_count": 19,
   "id": "b0df1d60",
   "metadata": {},
   "outputs": [],
   "source": [
    "from datasets import load_dataset\n",
    "import pandas as pd\n",
    "\n",
    "# Load the healthcare conversations dataset\n",
    "healthcare_conversations_dataset = load_dataset(\n",
    "    \"lavita/ChatDoctor-HealthCareMagic-100k\", streaming=True, split=\"train\"\n",
    ")\n",
    "\n",
    "healthcare_conversations_dataset = healthcare_conversations_dataset.take(1000)"
   ]
  },
  {
   "cell_type": "code",
   "execution_count": 20,
   "id": "ef4c762e",
   "metadata": {},
   "outputs": [],
   "source": [
    "# Load Drug Review dataset\n",
    "drug_reviews_dataset = load_dataset(\n",
    "    \"Reboot87/drugs_reviews_dataset\", streaming=True, split=\"train\"\n",
    ")\n",
    "\n",
    "drug_reviews_dataset = drug_reviews_dataset.take(1000)"
   ]
  },
  {
   "cell_type": "code",
   "execution_count": 22,
   "id": "83a358bf",
   "metadata": {},
   "outputs": [],
   "source": [
    "# Convert to pandas DataFrame\n",
    "healthcare_conversations_dataset = pd.DataFrame(healthcare_conversations_dataset)\n",
    "drug_reviews_dataset = pd.DataFrame(drug_reviews_dataset)"
   ]
  },
  {
   "cell_type": "code",
   "execution_count": 23,
   "id": "8f0c6f62",
   "metadata": {},
   "outputs": [],
   "source": [
    "healthcare_conversation_dataset = healthcare_conversations_dataset.drop(\n",
    " columns=[\"instruction\"]\n",
    ")"
   ]
  },
  {
   "cell_type": "code",
   "execution_count": 24,
   "id": "d2064af9",
   "metadata": {},
   "outputs": [],
   "source": [
    "drug_reviews_dataset = drug_reviews_dataset.drop(\n",
    " columns=[\"patientId\", \"date\", \"usefulCount\", \"review_length\"]\n",
    ")"
   ]
  },
  {
   "cell_type": "code",
   "execution_count": 25,
   "id": "8a5cc28a",
   "metadata": {},
   "outputs": [
    {
     "data": {
      "text/html": [
       "<div>\n",
       "<style scoped>\n",
       "    .dataframe tbody tr th:only-of-type {\n",
       "        vertical-align: middle;\n",
       "    }\n",
       "\n",
       "    .dataframe tbody tr th {\n",
       "        vertical-align: top;\n",
       "    }\n",
       "\n",
       "    .dataframe thead th {\n",
       "        text-align: right;\n",
       "    }\n",
       "</style>\n",
       "<table border=\"1\" class=\"dataframe\">\n",
       "  <thead>\n",
       "    <tr style=\"text-align: right;\">\n",
       "      <th></th>\n",
       "      <th>input</th>\n",
       "      <th>output</th>\n",
       "    </tr>\n",
       "  </thead>\n",
       "  <tbody>\n",
       "    <tr>\n",
       "      <th>0</th>\n",
       "      <td>I woke up this morning feeling the whole room ...</td>\n",
       "      <td>Hi, Thank you for posting your query. The most...</td>\n",
       "    </tr>\n",
       "    <tr>\n",
       "      <th>1</th>\n",
       "      <td>My baby has been pooing 5-6 times a day for a ...</td>\n",
       "      <td>Hi... Thank you for consulting in Chat Doctor....</td>\n",
       "    </tr>\n",
       "    <tr>\n",
       "      <th>2</th>\n",
       "      <td>Hello, My husband is taking Oxycodone due to a...</td>\n",
       "      <td>Hello, and I hope I can help you today.First, ...</td>\n",
       "    </tr>\n",
       "    <tr>\n",
       "      <th>3</th>\n",
       "      <td>lump under left nipple and stomach pain (male)...</td>\n",
       "      <td>HI. You have two different problems. The lump ...</td>\n",
       "    </tr>\n",
       "    <tr>\n",
       "      <th>4</th>\n",
       "      <td>I have a 5 month old baby who is very congeste...</td>\n",
       "      <td>Thank you for using Chat Doctor. I would sugge...</td>\n",
       "    </tr>\n",
       "  </tbody>\n",
       "</table>\n",
       "</div>"
      ],
      "text/plain": [
       "                                               input  \\\n",
       "0  I woke up this morning feeling the whole room ...   \n",
       "1  My baby has been pooing 5-6 times a day for a ...   \n",
       "2  Hello, My husband is taking Oxycodone due to a...   \n",
       "3  lump under left nipple and stomach pain (male)...   \n",
       "4  I have a 5 month old baby who is very congeste...   \n",
       "\n",
       "                                              output  \n",
       "0  Hi, Thank you for posting your query. The most...  \n",
       "1  Hi... Thank you for consulting in Chat Doctor....  \n",
       "2  Hello, and I hope I can help you today.First, ...  \n",
       "3  HI. You have two different problems. The lump ...  \n",
       "4  Thank you for using Chat Doctor. I would sugge...  "
      ]
     },
     "execution_count": 25,
     "metadata": {},
     "output_type": "execute_result"
    }
   ],
   "source": [
    "healthcare_conversation_dataset.head()"
   ]
  },
  {
   "cell_type": "code",
   "execution_count": 26,
   "id": "41eec009",
   "metadata": {},
   "outputs": [
    {
     "data": {
      "text/html": [
       "<div>\n",
       "<style scoped>\n",
       "    .dataframe tbody tr th:only-of-type {\n",
       "        vertical-align: middle;\n",
       "    }\n",
       "\n",
       "    .dataframe tbody tr th {\n",
       "        vertical-align: top;\n",
       "    }\n",
       "\n",
       "    .dataframe thead th {\n",
       "        text-align: right;\n",
       "    }\n",
       "</style>\n",
       "<table border=\"1\" class=\"dataframe\">\n",
       "  <thead>\n",
       "    <tr style=\"text-align: right;\">\n",
       "      <th></th>\n",
       "      <th>drugName</th>\n",
       "      <th>condition</th>\n",
       "      <th>review</th>\n",
       "      <th>rating</th>\n",
       "    </tr>\n",
       "  </thead>\n",
       "  <tbody>\n",
       "    <tr>\n",
       "      <th>0</th>\n",
       "      <td>cyclosporine</td>\n",
       "      <td>keratoconjunctivitis sicca</td>\n",
       "      <td>\"I have used Restasis for about a year now and...</td>\n",
       "      <td>2</td>\n",
       "    </tr>\n",
       "    <tr>\n",
       "      <th>1</th>\n",
       "      <td>etonogestrel</td>\n",
       "      <td>birth control</td>\n",
       "      <td>\"My experience has been somewhat mixed. I have...</td>\n",
       "      <td>7</td>\n",
       "    </tr>\n",
       "    <tr>\n",
       "      <th>2</th>\n",
       "      <td>implanon</td>\n",
       "      <td>birth control</td>\n",
       "      <td>\"This is my second Implanon would not recommen...</td>\n",
       "      <td>1</td>\n",
       "    </tr>\n",
       "    <tr>\n",
       "      <th>3</th>\n",
       "      <td>hydroxyzine</td>\n",
       "      <td>anxiety</td>\n",
       "      <td>\"I recommend taking as prescribed, and the bot...</td>\n",
       "      <td>10</td>\n",
       "    </tr>\n",
       "    <tr>\n",
       "      <th>4</th>\n",
       "      <td>dalfampridine</td>\n",
       "      <td>multiple sclerosis</td>\n",
       "      <td>\"I have been on Ampyra for 5 days and have bee...</td>\n",
       "      <td>9</td>\n",
       "    </tr>\n",
       "  </tbody>\n",
       "</table>\n",
       "</div>"
      ],
      "text/plain": [
       "        drugName                   condition  \\\n",
       "0   cyclosporine  keratoconjunctivitis sicca   \n",
       "1   etonogestrel               birth control   \n",
       "2       implanon               birth control   \n",
       "3    hydroxyzine                     anxiety   \n",
       "4  dalfampridine          multiple sclerosis   \n",
       "\n",
       "                                              review  rating  \n",
       "0  \"I have used Restasis for about a year now and...       2  \n",
       "1  \"My experience has been somewhat mixed. I have...       7  \n",
       "2  \"This is my second Implanon would not recommen...       1  \n",
       "3  \"I recommend taking as prescribed, and the bot...      10  \n",
       "4  \"I have been on Ampyra for 5 days and have bee...       9  "
      ]
     },
     "execution_count": 26,
     "metadata": {},
     "output_type": "execute_result"
    }
   ],
   "source": [
    "drug_reviews_dataset.head()"
   ]
  },
  {
   "cell_type": "markdown",
   "id": "bd14e842",
   "metadata": {},
   "source": [
    "#HuggingFace Embedding generation"
   ]
  },
  {
   "cell_type": "code",
   "execution_count": 31,
   "id": "f84705dd",
   "metadata": {},
   "outputs": [],
   "source": [
    "import nest_asyncio\n",
    "nest_asyncio.apply()\n",
    "import asyncio"
   ]
  },
  {
   "cell_type": "code",
   "execution_count": 35,
   "id": "56d6cfc5",
   "metadata": {},
   "outputs": [],
   "source": [
    "from langchain_google_genai import GoogleGenerativeAIEmbeddings\n",
    "\n",
    "async def get_embedding(text, task_prefix=\"document\"):\n",
    "        \"\"\"\n",
    "        Generate embeddings for a text string with a task-specific prefix using th\n",
    "        Parameters:\n",
    "        text (str): The input text to be embedded.\n",
    "        task_prefix (str): A prefix describing the task; this is prepended to \n",
    "        Returns:\n",
    "        list: The generated embeddings as a list of floats.\n",
    "        \"\"\"\n",
    "        if not text.strip():\n",
    "            print(\"Attempted to get embedding for empty text.\")\n",
    "            return []\n",
    "\n",
    "        embedding_model = GoogleGenerativeAIEmbeddings(\n",
    "            model=\"models/embedding-001\",\n",
    "            task_prefix=task_prefix,\n",
    "        )\n",
    "        return await embedding_model.aembed_query(text)\n"
   ]
  },
  {
   "cell_type": "code",
   "execution_count": 36,
   "id": "cbac73ab",
   "metadata": {},
   "outputs": [],
   "source": [
    "def generate_embedding_for_healthcare_dataset(row):\n",
    "    \"\"\"\n",
    "    Generate an embedding for a conversation by concatenating the patient's input\n",
    "    and the medical practitioner's response.\n",
    "    Parameters:\n",
    "    row (pd.Series): A row from the healthcare conversation dataset containing\n",
    "    - 'input': The patient's message.\n",
    "    - 'output': The practitioner's response.\n",
    "    Returns:\n",
    "    embedding: The embedding vector generated from the concatenated conversation.\n",
    "    \"\"\"\n",
    "    # Concatenate the input and output with descriptive text.\n",
    "    conversation_text = (\n",
    "    f\"This is the input from the patient: {row['input']}. \"\n",
    "    f\"This is the response from the medical practitioner: {row['output']}\"\n",
    "    )\n",
    "    # Generate and return the embedding using the get_embedding function.\n",
    "    return asyncio.run(get_embedding(conversation_text))"
   ]
  },
  {
   "cell_type": "code",
   "execution_count": 37,
   "id": "770b49b5",
   "metadata": {},
   "outputs": [
    {
     "name": "stderr",
     "output_type": "stream",
     "text": [
      "Generating healthcare embeddings: 100%|██████████| 1000/1000 [12:19<00:00,  1.35it/s]\n"
     ]
    }
   ],
   "source": [
    "from tqdm import tqdm\n",
    "\n",
    "tqdm.pandas(desc=\"Generating healthcare embeddings\")\n",
    "healthcare_conversation_dataset[\"embedding\"] = healthcare_conversation_dataset.progress_apply(\n",
    "    generate_embedding_for_healthcare_dataset, axis=1\n",
    ")"
   ]
  },
  {
   "cell_type": "code",
   "execution_count": 38,
   "id": "9fee92b2",
   "metadata": {},
   "outputs": [
    {
     "data": {
      "text/plain": [
       "768"
      ]
     },
     "execution_count": 38,
     "metadata": {},
     "output_type": "execute_result"
    }
   ],
   "source": [
    "len(healthcare_conversation_dataset[\"embedding\"][0])"
   ]
  },
  {
   "cell_type": "code",
   "execution_count": 39,
   "id": "968f9bb7",
   "metadata": {},
   "outputs": [
    {
     "data": {
      "text/html": [
       "<div>\n",
       "<style scoped>\n",
       "    .dataframe tbody tr th:only-of-type {\n",
       "        vertical-align: middle;\n",
       "    }\n",
       "\n",
       "    .dataframe tbody tr th {\n",
       "        vertical-align: top;\n",
       "    }\n",
       "\n",
       "    .dataframe thead th {\n",
       "        text-align: right;\n",
       "    }\n",
       "</style>\n",
       "<table border=\"1\" class=\"dataframe\">\n",
       "  <thead>\n",
       "    <tr style=\"text-align: right;\">\n",
       "      <th></th>\n",
       "      <th>input</th>\n",
       "      <th>output</th>\n",
       "      <th>embedding</th>\n",
       "    </tr>\n",
       "  </thead>\n",
       "  <tbody>\n",
       "    <tr>\n",
       "      <th>0</th>\n",
       "      <td>I woke up this morning feeling the whole room ...</td>\n",
       "      <td>Hi, Thank you for posting your query. The most...</td>\n",
       "      <td>[0.0020050371531397104, -0.05553682520985603, ...</td>\n",
       "    </tr>\n",
       "    <tr>\n",
       "      <th>1</th>\n",
       "      <td>My baby has been pooing 5-6 times a day for a ...</td>\n",
       "      <td>Hi... Thank you for consulting in Chat Doctor....</td>\n",
       "      <td>[-0.003632515901699662, -0.011232027783989906,...</td>\n",
       "    </tr>\n",
       "    <tr>\n",
       "      <th>2</th>\n",
       "      <td>Hello, My husband is taking Oxycodone due to a...</td>\n",
       "      <td>Hello, and I hope I can help you today.First, ...</td>\n",
       "      <td>[-0.03484662249684334, -0.014810346066951752, ...</td>\n",
       "    </tr>\n",
       "    <tr>\n",
       "      <th>3</th>\n",
       "      <td>lump under left nipple and stomach pain (male)...</td>\n",
       "      <td>HI. You have two different problems. The lump ...</td>\n",
       "      <td>[0.004324246663600206, -0.006830697879195213, ...</td>\n",
       "    </tr>\n",
       "    <tr>\n",
       "      <th>4</th>\n",
       "      <td>I have a 5 month old baby who is very congeste...</td>\n",
       "      <td>Thank you for using Chat Doctor. I would sugge...</td>\n",
       "      <td>[0.008385895751416683, -0.05430954694747925, -...</td>\n",
       "    </tr>\n",
       "  </tbody>\n",
       "</table>\n",
       "</div>"
      ],
      "text/plain": [
       "                                               input  \\\n",
       "0  I woke up this morning feeling the whole room ...   \n",
       "1  My baby has been pooing 5-6 times a day for a ...   \n",
       "2  Hello, My husband is taking Oxycodone due to a...   \n",
       "3  lump under left nipple and stomach pain (male)...   \n",
       "4  I have a 5 month old baby who is very congeste...   \n",
       "\n",
       "                                              output  \\\n",
       "0  Hi, Thank you for posting your query. The most...   \n",
       "1  Hi... Thank you for consulting in Chat Doctor....   \n",
       "2  Hello, and I hope I can help you today.First, ...   \n",
       "3  HI. You have two different problems. The lump ...   \n",
       "4  Thank you for using Chat Doctor. I would sugge...   \n",
       "\n",
       "                                           embedding  \n",
       "0  [0.0020050371531397104, -0.05553682520985603, ...  \n",
       "1  [-0.003632515901699662, -0.011232027783989906,...  \n",
       "2  [-0.03484662249684334, -0.014810346066951752, ...  \n",
       "3  [0.004324246663600206, -0.006830697879195213, ...  \n",
       "4  [0.008385895751416683, -0.05430954694747925, -...  "
      ]
     },
     "execution_count": 39,
     "metadata": {},
     "output_type": "execute_result"
    }
   ],
   "source": [
    "healthcare_conversation_dataset.head()"
   ]
  },
  {
   "cell_type": "code",
   "execution_count": 50,
   "id": "d5a698af",
   "metadata": {},
   "outputs": [],
   "source": [
    "def make_embeddings(txt):\n",
    "    result = asyncio.run(get_embedding(txt))\n",
    "    return result"
   ]
  },
  {
   "cell_type": "code",
   "execution_count": 51,
   "id": "f56a749c",
   "metadata": {},
   "outputs": [
    {
     "name": "stderr",
     "output_type": "stream",
     "text": [
      "Generating healthcare embeddings: 100%|██████████| 1000/1000 [14:15<00:00,  1.17it/s]\n"
     ]
    }
   ],
   "source": [
    "drug_reviews_dataset[\"embedding\"] = drug_reviews_dataset[\"review\"].progress_apply(\n",
    "    make_embeddings\n",
    ")"
   ]
  },
  {
   "cell_type": "code",
   "execution_count": 52,
   "id": "2f8b0afb",
   "metadata": {},
   "outputs": [
    {
     "data": {
      "text/html": [
       "<div>\n",
       "<style scoped>\n",
       "    .dataframe tbody tr th:only-of-type {\n",
       "        vertical-align: middle;\n",
       "    }\n",
       "\n",
       "    .dataframe tbody tr th {\n",
       "        vertical-align: top;\n",
       "    }\n",
       "\n",
       "    .dataframe thead th {\n",
       "        text-align: right;\n",
       "    }\n",
       "</style>\n",
       "<table border=\"1\" class=\"dataframe\">\n",
       "  <thead>\n",
       "    <tr style=\"text-align: right;\">\n",
       "      <th></th>\n",
       "      <th>drugName</th>\n",
       "      <th>condition</th>\n",
       "      <th>review</th>\n",
       "      <th>rating</th>\n",
       "      <th>embedding</th>\n",
       "    </tr>\n",
       "  </thead>\n",
       "  <tbody>\n",
       "    <tr>\n",
       "      <th>0</th>\n",
       "      <td>cyclosporine</td>\n",
       "      <td>keratoconjunctivitis sicca</td>\n",
       "      <td>\"I have used Restasis for about a year now and...</td>\n",
       "      <td>2</td>\n",
       "      <td>[0.057198747992515564, -0.03319098800420761, -...</td>\n",
       "    </tr>\n",
       "    <tr>\n",
       "      <th>1</th>\n",
       "      <td>etonogestrel</td>\n",
       "      <td>birth control</td>\n",
       "      <td>\"My experience has been somewhat mixed. I have...</td>\n",
       "      <td>7</td>\n",
       "      <td>[-0.007726987358182669, -0.022331252694129944,...</td>\n",
       "    </tr>\n",
       "    <tr>\n",
       "      <th>2</th>\n",
       "      <td>implanon</td>\n",
       "      <td>birth control</td>\n",
       "      <td>\"This is my second Implanon would not recommen...</td>\n",
       "      <td>1</td>\n",
       "      <td>[0.005060719326138496, -0.060500070452690125, ...</td>\n",
       "    </tr>\n",
       "    <tr>\n",
       "      <th>3</th>\n",
       "      <td>hydroxyzine</td>\n",
       "      <td>anxiety</td>\n",
       "      <td>\"I recommend taking as prescribed, and the bot...</td>\n",
       "      <td>10</td>\n",
       "      <td>[0.018926484510302544, -0.03552955016493797, -...</td>\n",
       "    </tr>\n",
       "    <tr>\n",
       "      <th>4</th>\n",
       "      <td>dalfampridine</td>\n",
       "      <td>multiple sclerosis</td>\n",
       "      <td>\"I have been on Ampyra for 5 days and have bee...</td>\n",
       "      <td>9</td>\n",
       "      <td>[0.03307104483246803, 0.04259384423494339, -0....</td>\n",
       "    </tr>\n",
       "  </tbody>\n",
       "</table>\n",
       "</div>"
      ],
      "text/plain": [
       "        drugName                   condition  \\\n",
       "0   cyclosporine  keratoconjunctivitis sicca   \n",
       "1   etonogestrel               birth control   \n",
       "2       implanon               birth control   \n",
       "3    hydroxyzine                     anxiety   \n",
       "4  dalfampridine          multiple sclerosis   \n",
       "\n",
       "                                              review  rating  \\\n",
       "0  \"I have used Restasis for about a year now and...       2   \n",
       "1  \"My experience has been somewhat mixed. I have...       7   \n",
       "2  \"This is my second Implanon would not recommen...       1   \n",
       "3  \"I recommend taking as prescribed, and the bot...      10   \n",
       "4  \"I have been on Ampyra for 5 days and have bee...       9   \n",
       "\n",
       "                                           embedding  \n",
       "0  [0.057198747992515564, -0.03319098800420761, -...  \n",
       "1  [-0.007726987358182669, -0.022331252694129944,...  \n",
       "2  [0.005060719326138496, -0.060500070452690125, ...  \n",
       "3  [0.018926484510302544, -0.03552955016493797, -...  \n",
       "4  [0.03307104483246803, 0.04259384423494339, -0....  "
      ]
     },
     "execution_count": 52,
     "metadata": {},
     "output_type": "execute_result"
    }
   ],
   "source": [
    "drug_reviews_dataset.head()"
   ]
  },
  {
   "cell_type": "markdown",
   "id": "cc97d191",
   "metadata": {},
   "source": [
    "#MongoDB Creation"
   ]
  },
  {
   "cell_type": "code",
   "execution_count": 62,
   "id": "6e590005",
   "metadata": {},
   "outputs": [],
   "source": [
    "os.environ[\"MONGODB_URI\"] = os.getenv(\"MONGODB_URI\")\n",
    "os.environ[\"MONGODB_DATABASE\"] = os.getenv(\"MONGODB_DATABASE\")"
   ]
  },
  {
   "cell_type": "code",
   "execution_count": 77,
   "id": "656d3dfa",
   "metadata": {},
   "outputs": [],
   "source": [
    "import nest_asyncio\n",
    "nest_asyncio.apply()\n",
    "import asyncio\n",
    "\n",
    "mongio_uri = os.getenv(\"MONGODB_URI\")"
   ]
  },
  {
   "cell_type": "code",
   "execution_count": 79,
   "id": "1b453a7c",
   "metadata": {},
   "outputs": [],
   "source": [
    "import pymongo\n",
    "\n",
    "async def get_mongo_client(mongo_uri=None):\n",
    "    \"\"\"Establish a connection to the MongoDB database.\"\"\"\n",
    "    client = pymongo.AsyncMongoClient(mongo_uri, appname=\"Agentic RAG Medical Bot\")\n",
    "\n",
    "    try:\n",
    "        ping_result = await client.admin.command(\"ping\")\n",
    "        if ping_result.get(\"ok\") == 1.0:\n",
    "            print(\"✅ Connection to MongoDB is Successful\")\n",
    "            return client\n",
    "        else:\n",
    "            print(\"❌ Ping failed\")\n",
    "            return None\n",
    "    except Exception as e:\n",
    "        print(f\"❌ Connection failed: {e}\")\n",
    "        return None\n"
   ]
  },
  {
   "cell_type": "code",
   "execution_count": 80,
   "id": "42bdac3a",
   "metadata": {},
   "outputs": [
    {
     "name": "stdout",
     "output_type": "stream",
     "text": [
      "✅ Connection to MongoDB is Successful\n"
     ]
    },
    {
     "data": {
      "text/plain": [
       "AsyncMongoClient(host=['ac-tmlvw0p-shard-00-00.swxxwtn.mongodb.net:27017', 'ac-tmlvw0p-shard-00-01.swxxwtn.mongodb.net:27017', 'ac-tmlvw0p-shard-00-02.swxxwtn.mongodb.net:27017'], document_class=dict, tz_aware=False, connect=True, authsource='admin', replicaset='atlas-9pl5s9-shard-0', tls=True, appname='Agentic RAG Medical Bot')"
      ]
     },
     "execution_count": 80,
     "metadata": {},
     "output_type": "execute_result"
    }
   ],
   "source": [
    "from pymongo.errors import CollectionInvalid\n",
    "import getpass\n",
    "from urllib.parse import quote_plus\n",
    "\n",
    "mongo_client = asyncio.run(get_mongo_client(mongio_uri.format(PASSWORD=quote_plus(getpass.getpass(\"PASSWORD: \")))))\n",
    "mongo_client"
   ]
  },
  {
   "cell_type": "code",
   "execution_count": 81,
   "id": "82dd4e57",
   "metadata": {},
   "outputs": [
    {
     "name": "stdout",
     "output_type": "stream",
     "text": [
      "<class 'pymongo.asynchronous.mongo_client.AsyncMongoClient'>\n"
     ]
    }
   ],
   "source": [
    "print(type(mongo_client))  # <class 'pymongo.mongo_client.MongoClient'>\n",
    "#print(db.list_collection_names())"
   ]
  },
  {
   "cell_type": "code",
   "execution_count": 82,
   "id": "562f3a75",
   "metadata": {},
   "outputs": [
    {
     "data": {
      "text/plain": [
       "AsyncDatabase(AsyncMongoClient(host=['ac-tmlvw0p-shard-00-00.swxxwtn.mongodb.net:27017', 'ac-tmlvw0p-shard-00-01.swxxwtn.mongodb.net:27017', 'ac-tmlvw0p-shard-00-02.swxxwtn.mongodb.net:27017'], document_class=dict, tz_aware=False, connect=True, authsource='admin', replicaset='atlas-9pl5s9-shard-0', tls=True, appname='Agentic RAG Medical Bot'), 'virtual_health_care_assistant')"
      ]
     },
     "execution_count": 82,
     "metadata": {},
     "output_type": "execute_result"
    }
   ],
   "source": [
    "DB_NAME = \"virtual_health_care_assistant\"\n",
    "DRUG_REVIEW_COLLECTION_NAME = \"drug_reviews\"\n",
    "CONVERSATION_COLLECTION_NAME = \"conversations\"\n",
    "\n",
    "db = mongo_client[DB_NAME]\n",
    "db"
   ]
  },
  {
   "cell_type": "code",
   "execution_count": 89,
   "id": "d1e2fc7a",
   "metadata": {},
   "outputs": [
    {
     "name": "stdout",
     "output_type": "stream",
     "text": [
      "Collection 'drug_reviews' created successfully.\n",
      "Collection 'conversations' created successfully.\n"
     ]
    }
   ],
   "source": [
    "collection_list = [\n",
    "    DRUG_REVIEW_COLLECTION_NAME,\n",
    "    CONVERSATION_COLLECTION_NAME\n",
    "]\n",
    "\n",
    "for collection_name in collection_list:\n",
    "    if collection_name not in asyncio.run(db.list_collection_names()):\n",
    "        try:\n",
    "            await db.create_collection(collection_name)\n",
    "            print(f\"Collection '{collection_name}' created successfully.\")\n",
    "        except CollectionInvalid as e:\n",
    "            print(f\"Collection '{collection_name}' already exists.\")"
   ]
  },
  {
   "cell_type": "code",
   "execution_count": 90,
   "id": "88ec51f3",
   "metadata": {},
   "outputs": [],
   "source": [
    "drug_reviews_collection = db[DRUG_REVIEW_COLLECTION_NAME]\n",
    "healthcare_conversation_collection = db[CONVERSATION_COLLECTION_NAME]\n",
    "collections_list = [drug_reviews_collection, healthcare_conversation_collection]"
   ]
  },
  {
   "cell_type": "markdown",
   "id": "5a95cde5",
   "metadata": {},
   "source": [
    "#Index Creation"
   ]
  },
  {
   "cell_type": "code",
   "execution_count": 101,
   "id": "5ccf6bdf",
   "metadata": {},
   "outputs": [],
   "source": [
    "from pymongo.operations import SearchIndexModel\n",
    "\n",
    "async def setup_vector_search_index(collection, index_definition, index_name=\"AgenticRAG\"):\n",
    "    \"\"\"\n",
    "    Setup a vector search index for a MongoDB collection and wait for 30 secon\n",
    "    Args:\n",
    "    collection: MongoDB collection object\n",
    "    index_definition: Dictionary containing the index definition\n",
    "    index_name: Name of the index (default: \"vector_index\")\n",
    "    \"\"\"\n",
    "    new_vector_search_index = SearchIndexModel(\n",
    "        definition=index_definition,\n",
    "        name=index_name,\n",
    "        type=\"vector_search\",\n",
    "    )\n",
    "    try:\n",
    "        result = collection.create_search_index(new_vector_search_index)\n",
    "        print(f\"Creating index {index_name} for {collection.name} collection: {result}\")\n",
    "        return result\n",
    "    except Exception as e:\n",
    "        print(f\"Error creating index {index_name} for {collection.name} collection: {e}\")\n",
    "        return None"
   ]
  },
  {
   "cell_type": "code",
   "execution_count": 102,
   "id": "3455d1d0",
   "metadata": {},
   "outputs": [],
   "source": [
    "vector_index_definition_float32_ann = {\n",
    "    \"fields\":[\n",
    "        {\n",
    "            \"type\": \"vector\",\n",
    "            \"path\": \"embedding\",\n",
    "            \"dimension\": 768,\n",
    "            \"similarity\": \"cosine\"\n",
    "        }\n",
    "    ]\n",
    "}\n",
    "\n",
    "vector_search_float32_ann_index_name = \"vector_index_float32_ann\""
   ]
  },
  {
   "cell_type": "code",
   "execution_count": 103,
   "id": "4475682f",
   "metadata": {},
   "outputs": [
    {
     "name": "stdout",
     "output_type": "stream",
     "text": [
      "Creating index vector_index_float32_ann for drug_reviews collection: <coroutine object AsyncCollection.create_search_index at 0x0000024D25DB06D0>\n",
      "Index vector_index_float32_ann created successfully for drug_reviews collection.\n",
      "Creating index vector_index_float32_ann for conversations collection: <coroutine object AsyncCollection.create_search_index at 0x0000024D25DB07C0>\n",
      "Index vector_index_float32_ann created successfully for conversations collection.\n"
     ]
    },
    {
     "name": "stderr",
     "output_type": "stream",
     "text": [
      "C:\\Users\\user\\AppData\\Local\\Temp\\ipykernel_13000\\2160275577.py:2: RuntimeWarning: coroutine 'AsyncCollection.create_search_index' was never awaited\n",
      "  result = asyncio.run(setup_vector_search_index(\n",
      "RuntimeWarning: Enable tracemalloc to get the object allocation traceback\n"
     ]
    }
   ],
   "source": [
    "for specific_collection in collections_list:\n",
    "    result = asyncio.run(setup_vector_search_index(\n",
    "        specific_collection,\n",
    "        vector_index_definition_float32_ann,\n",
    "        vector_search_float32_ann_index_name\n",
    "    ))\n",
    "    if result:\n",
    "        print(f\"Index {vector_search_float32_ann_index_name} created successfully for {specific_collection.name} collection.\")\n",
    "    else:\n",
    "        print(f\"Failed to create index {vector_search_float32_ann_index_name} for {specific_collection.name} collection.\")"
   ]
  },
  {
   "cell_type": "markdown",
   "id": "95019ec4",
   "metadata": {},
   "source": [
    "#Create Search Index"
   ]
  },
  {
   "cell_type": "code",
   "execution_count": 104,
   "id": "824538d0",
   "metadata": {},
   "outputs": [],
   "source": [
    "async def create_keyword_search_index(collection, definition, index_name=\"keyword_index\"):\n",
    "    \"\"\"\n",
    "    Create a keyword search index for a MongoDB collection.\n",
    "    Args:\n",
    "    collection: MongoDB collection object\n",
    "    definition: Dictionary containing the index definition\n",
    "    index_name: Name of the index (default: \"keyword_index\")\n",
    "    \"\"\"\n",
    "    search_index_model = {\n",
    "        \"name\": index_name, \n",
    "        \"type\": \"search\", \n",
    "        \"definition\": definition, \n",
    "        }\n",
    "    try:\n",
    "        result = collection.create_search_index(search_index_model)\n",
    "        print(f\"Creating index '{index_name}' for {collection.name} collection: {result}\")\n",
    "        return result\n",
    "    except Exception as e:\n",
    "        print(f\"Error creating index '{index_name}' for {collection.name} collection: {e}\")\n",
    "        return None"
   ]
  },
  {
   "cell_type": "code",
   "execution_count": 105,
   "id": "e664dc1c",
   "metadata": {},
   "outputs": [],
   "source": [
    "drug_review_keyword_search_index = {\n",
    "    \"mappings\": {\n",
    "        \"dynamic\": False,\n",
    "        \"fields\": {\n",
    "            \"drugName\": {\n",
    "                \"type\": \"keyword\",\n",
    "            },\n",
    "            \"condition\": {\n",
    "                \"type\": \"string\",\n",
    "            },\n",
    "            \"review\":{\n",
    "                \"type\": \"string\",\n",
    "            },\n",
    "        },\n",
    "    }\n",
    "}"
   ]
  },
  {
   "cell_type": "code",
   "execution_count": 106,
   "id": "36dc2c92",
   "metadata": {},
   "outputs": [],
   "source": [
    "conversations_keyword_search_index = {\n",
    "    \"mappings\":{\n",
    "        \"dynamic\": False,\n",
    "        \"fields\":{\n",
    "            \"input\": {\n",
    "                \"type\": \"string\",\n",
    "            },\n",
    "        },\n",
    "    }\n",
    "}"
   ]
  },
  {
   "cell_type": "code",
   "execution_count": 107,
   "id": "7ba70714",
   "metadata": {},
   "outputs": [
    {
     "name": "stdout",
     "output_type": "stream",
     "text": [
      "Creating index keyword_index for drug_reviews collection: <coroutine object AsyncCollection.create_search_index at 0x0000024D25DD63E0>\n"
     ]
    },
    {
     "data": {
      "text/plain": [
       "<coroutine object AsyncCollection.create_search_index at 0x0000024D25DD63E0>"
      ]
     },
     "execution_count": 107,
     "metadata": {},
     "output_type": "execute_result"
    }
   ],
   "source": [
    "asyncio.run(\n",
    "    setup_vector_search_index(\n",
    "        drug_reviews_collection,\n",
    "        drug_review_keyword_search_index,\n",
    "        \"keyword_index\"\n",
    "    )\n",
    ")"
   ]
  },
  {
   "cell_type": "code",
   "execution_count": 108,
   "id": "55ba118b",
   "metadata": {},
   "outputs": [
    {
     "name": "stdout",
     "output_type": "stream",
     "text": [
      "Creating index keyword_index for conversations collection: <coroutine object AsyncCollection.create_search_index at 0x0000024D25DD7010>\n"
     ]
    },
    {
     "data": {
      "text/plain": [
       "<coroutine object AsyncCollection.create_search_index at 0x0000024D25DD7010>"
      ]
     },
     "execution_count": 108,
     "metadata": {},
     "output_type": "execute_result"
    }
   ],
   "source": [
    "asyncio.run(\n",
    "    setup_vector_search_index(\n",
    "        healthcare_conversation_collection,\n",
    "        conversations_keyword_search_index,\n",
    "        \"keyword_index\"\n",
    "    )\n",
    ")"
   ]
  },
  {
   "cell_type": "markdown",
   "id": "af4c1114",
   "metadata": {},
   "source": [
    "#Data Ingestion"
   ]
  },
  {
   "cell_type": "code",
   "execution_count": 109,
   "id": "3d89cca0",
   "metadata": {},
   "outputs": [],
   "source": [
    "healthcare_conversation_dataset = healthcare_conversation_dataset.to_dict(\"records\")\n",
    "drug_reviews_dataset = drug_reviews_dataset.to_dict(\"records\")"
   ]
  },
  {
   "cell_type": "code",
   "execution_count": 111,
   "id": "28a8a147",
   "metadata": {},
   "outputs": [
    {
     "name": "stdout",
     "output_type": "stream",
     "text": [
      "Data ingestion into MongoDB completed\n"
     ]
    }
   ],
   "source": [
    "await healthcare_conversation_collection.insert_many(healthcare_conversation_dataset)\n",
    "await drug_reviews_collection.insert_many(drug_reviews_dataset)\n",
    "print(\"Data ingestion into MongoDB completed\")"
   ]
  },
  {
   "cell_type": "markdown",
   "id": "a6c3bb12",
   "metadata": {},
   "source": [
    "#Text Search"
   ]
  },
  {
   "cell_type": "code",
   "execution_count": 199,
   "id": "8024a75c",
   "metadata": {},
   "outputs": [],
   "source": [
    "async def text_search_with_mongodb(query, collection, top_k=5, paths=\"review\"):\n",
    "    \"\"\"\n",
    "    Perform a text search on a MongoDB collection using the provided query.\n",
    "    \n",
    "    Args:\n",
    "        query (str): The search query.\n",
    "        collection: Motor async MongoDB collection object.\n",
    "        top_k (int): Number of top results to return (default: 5).\n",
    "        paths (str or list): The field(s) to search in (default: \"review\").\n",
    "    \n",
    "    Returns:\n",
    "        list: List of documents matching the search query.\n",
    "    \"\"\"\n",
    "    if not isinstance(paths, list):\n",
    "        paths = [paths]\n",
    "\n",
    "    text_search_stage = {\n",
    "        \"$search\": {\n",
    "            \"index\": \"keyword_index\",  # Name of your Atlas Search index\n",
    "            \"text\": {\n",
    "                \"query\": query,\n",
    "                \"path\": paths,\n",
    "            },\n",
    "        }\n",
    "    }\n",
    "\n",
    "    limit_stage = {\"$limit\": top_k}\n",
    "    \n",
    "    projection_stage = {\n",
    "        \"$project\": {\n",
    "            \"_id\": 0,\n",
    "            \"embedding\": 0,\n",
    "        }\n",
    "    }\n",
    "\n",
    "    pipeline = [text_search_stage, limit_stage, projection_stage]\n",
    "\n",
    "    # Correct usage in Motor\n",
    "    cursor =  await collection.aggregate(pipeline)\n",
    "    results = [doc async for doc in cursor]\n",
    "\n",
    "    return results"
   ]
  },
  {
   "cell_type": "code",
   "execution_count": 200,
   "id": "540bd251",
   "metadata": {},
   "outputs": [],
   "source": [
    "query = \"cough\"\n",
    "\n",
    " \n",
    "get_knowledge_full_text_mdb = await text_search_with_mongodb(\n",
    "    query,\n",
    "    drug_reviews_collection,\n",
    "    top_k=5,\n",
    "    paths=[\"review\", \"drugName\", \"condition\"]\n",
    ")\n"
   ]
  },
  {
   "cell_type": "code",
   "execution_count": 201,
   "id": "b89fd240",
   "metadata": {},
   "outputs": [
    {
     "data": {
      "text/plain": [
       "[]"
      ]
     },
     "execution_count": 201,
     "metadata": {},
     "output_type": "execute_result"
    }
   ],
   "source": [
    "get_knowledge_full_text_mdb"
   ]
  },
  {
   "cell_type": "code",
   "execution_count": 202,
   "id": "bb0df1bf",
   "metadata": {},
   "outputs": [
    {
     "data": {
      "text/html": [
       "<div>\n",
       "<style scoped>\n",
       "    .dataframe tbody tr th:only-of-type {\n",
       "        vertical-align: middle;\n",
       "    }\n",
       "\n",
       "    .dataframe tbody tr th {\n",
       "        vertical-align: top;\n",
       "    }\n",
       "\n",
       "    .dataframe thead th {\n",
       "        text-align: right;\n",
       "    }\n",
       "</style>\n",
       "<table border=\"1\" class=\"dataframe\">\n",
       "  <thead>\n",
       "    <tr style=\"text-align: right;\">\n",
       "      <th></th>\n",
       "    </tr>\n",
       "  </thead>\n",
       "  <tbody>\n",
       "  </tbody>\n",
       "</table>\n",
       "</div>"
      ],
      "text/plain": [
       "Empty DataFrame\n",
       "Columns: []\n",
       "Index: []"
      ]
     },
     "execution_count": 202,
     "metadata": {},
     "output_type": "execute_result"
    }
   ],
   "source": [
    "pd.DataFrame(get_knowledge_full_text_mdb).head()"
   ]
  },
  {
   "cell_type": "markdown",
   "id": "01f143f2",
   "metadata": {},
   "source": [
    "#Semantic Search"
   ]
  },
  {
   "cell_type": "code",
   "execution_count": 210,
   "id": "ecaea794",
   "metadata": {},
   "outputs": [],
   "source": [
    "async def semantic_search_with_mongodb(query, collection, top_k=5, vector_search_index_name=\"vector_index\"):\n",
    "    \"\"\"\n",
    "    Perform a semantic search on a MongoDB collection using the provided query.\n",
    "    \n",
    "    Args:\n",
    "        query (str): The search query.\n",
    "        collection: Motor async MongoDB collection object.\n",
    "        vector_search_index_name (str): Name of the vector search index to use (default: \"vector_index\").\n",
    "        top_k (int): Number of top results to return (default: 5).\n",
    "    Returns:\n",
    "        list: List of documents matching the semantic search query.\n",
    "    \"\"\"\n",
    "    query_embedding = await get_embedding(query, task_prefix=\"semantic_search\")\n",
    "    if not query_embedding:\n",
    "        return \"No embedding generated for the query.\"        \n",
    "    \n",
    "    vector_search_stage = {\n",
    "        \"$vectorSearch\": {\n",
    "            \"index\": vector_search_index_name,\n",
    "            \"queryVector\": query_embedding,\n",
    "            \"path\": \"embedding\",\n",
    "            \"numCandidates\": 100,\n",
    "            \"limit\": top_k,\n",
    "        }\n",
    "    }\n",
    "\n",
    "    projection_stage = {\n",
    "        \"$project\": {\n",
    "            \"_id\": 0,\n",
    "            \"embedding\": 0,\n",
    "            \"score\": {\"$meta\": \"vectorSearchScore\"},\n",
    "        }\n",
    "    }\n",
    "\n",
    "    pipeline = [vector_search_stage, projection_stage]\n",
    "    cursor = await collection.aggregate(pipeline)\n",
    "    results = [doc async for doc in cursor]\n",
    "    return list(results)"
   ]
  },
  {
   "cell_type": "code",
   "execution_count": 211,
   "id": "05c8aa26",
   "metadata": {},
   "outputs": [],
   "source": [
    "query = \"I have a cough, what drug can I use?\"\n",
    "\n",
    "get_knowledge_semantic_mdb = await semantic_search_with_mongodb(\n",
    "    query,\n",
    "    drug_reviews_collection,\n",
    "    top_k=5,\n",
    "    vector_search_index_name= vector_search_float32_ann_index_name\n",
    ")"
   ]
  },
  {
   "cell_type": "code",
   "execution_count": 212,
   "id": "ccdfd0d5",
   "metadata": {},
   "outputs": [
    {
     "data": {
      "text/html": [
       "<div>\n",
       "<style scoped>\n",
       "    .dataframe tbody tr th:only-of-type {\n",
       "        vertical-align: middle;\n",
       "    }\n",
       "\n",
       "    .dataframe tbody tr th {\n",
       "        vertical-align: top;\n",
       "    }\n",
       "\n",
       "    .dataframe thead th {\n",
       "        text-align: right;\n",
       "    }\n",
       "</style>\n",
       "<table border=\"1\" class=\"dataframe\">\n",
       "  <thead>\n",
       "    <tr style=\"text-align: right;\">\n",
       "      <th></th>\n",
       "    </tr>\n",
       "  </thead>\n",
       "  <tbody>\n",
       "  </tbody>\n",
       "</table>\n",
       "</div>"
      ],
      "text/plain": [
       "Empty DataFrame\n",
       "Columns: []\n",
       "Index: []"
      ]
     },
     "execution_count": 212,
     "metadata": {},
     "output_type": "execute_result"
    }
   ],
   "source": [
    "pd.DataFrame(get_knowledge_semantic_mdb).head()"
   ]
  },
  {
   "cell_type": "markdown",
   "id": "bebd922a",
   "metadata": {},
   "source": [
    "#Hybrid Search"
   ]
  },
  {
   "cell_type": "code",
   "execution_count": 225,
   "id": "ed709c88",
   "metadata": {},
   "outputs": [],
   "source": [
    "async  def hybrid_search_with_mongodb(\n",
    " user_query,\n",
    " collection,\n",
    " vector_search_index_name=\"vector_index\",\n",
    " text_search_index_name=\"text_search_index\",\n",
    " vector_weight=0.5,\n",
    " full_text_weight=0.5,\n",
    " top_k=10,\n",
    " text_search_paths=[\"review\"],\n",
    "):\n",
    "    \"\"\"\n",
    "    Perform a hybrid search combining vector search and text search on a MongoDB collection.\n",
    "    \n",
    "    Args:\n",
    "        user_query (str): The search query.\n",
    "        collection: async MongoDB collection object.\n",
    "        vector_search_index_name (str): Name of the vector search index to use (default: \"vector_index\").\n",
    "        text_search_index_name (str): Name of the text search index to use (default: \"text_search_index\").\n",
    "        vector_weight (float): Weight for the vector search results (default: 0.5).\n",
    "        full_text_weight (float): Weight for the full-text search results (default: 0.5).\n",
    "        top_k (int): Number of top results to return (default: 10).\n",
    "        text_search_paths (list): List of fields to search in for full-text search.\n",
    "    \n",
    "    Returns:\n",
    "        list: List of documents matching the hybrid search query.\n",
    "    \"\"\"\n",
    "    collection_name = await collection.name\n",
    "    query_embedding = await get_embedding(user_query, task_prefix=\"hybrid_search\")\n",
    "\n",
    "    pipeline = [\n",
    "        {\n",
    "            \"vectorSearch\": {\n",
    "                \"index\": vector_search_index_name,\n",
    "                \"queryVector\": query_embedding,\n",
    "                \"path\": \"embedding\",\n",
    "                \"numCandidates\": 100,\n",
    "                \"limit\": top_k,\n",
    "            }\n",
    "        },\n",
    "        {\n",
    "            \"$group\": {\n",
    "                \"_id\": None,\n",
    "                \"docs\": {\"push\": \"$$ROOT\"},\n",
    "            }\n",
    "        },\n",
    "        {\n",
    "            \"$unwind\": {\n",
    "                \"path\": \"$docs\",\n",
    "                \"IncludeArrayIndex\": \"rank\",\n",
    "            }\n",
    "        },\n",
    "        {\n",
    "        \"$addFields\": {\n",
    "            \"vs_score\": {\n",
    "                \"$multiply\": [\n",
    "                    vector_weight, # Apply configurable weight to vector \n",
    "                    {\n",
    "                    \"$divide\": [1.0, {\"$add\": [\"$rank\", 60]}]\n",
    "                    }, # Score formula: 1/(rank+60)\n",
    "                ]\n",
    "            }\n",
    "        }\n",
    "        },\n",
    "        {\n",
    "        \"$project\": {\n",
    "            \"vs_score\": 1,\n",
    "            \"_id\": \"$docs._id\",\n",
    "            \"review\": \"$docs.review\",\n",
    "            \"drugName\": \"$docs.drugName\",\n",
    "            \"condition\": \"$docs.condition\",\n",
    "            }\n",
    "        },\n",
    "        # PART 2: TEXT SEARCH\n",
    "        # Combine with full-text search results using unionWith\n",
    "        {\n",
    "            \"$unionWith\": {\n",
    "                \"coll\": collection_name, # Collection to search\n",
    "                \"pipeline\": [\n",
    "                # Perform full text search using Atlas Search\n",
    "                    {\n",
    "                        \"$search\": {\n",
    "                        \"index\": text_search_index_name, # Name of the te\n",
    "                        \"text\": {\"query\": user_query, \"path\": text_search_paths},\n",
    "                        },\n",
    "                    },   \n",
    "                    {\"$limit\": top_k}, \n",
    "                    # Group text search results similar to vector search\n",
    "                    {\"$group\": {\"_id\": None, \"docs\": {\"$push\": \"$$ROOT\"}}},\n",
    "                    # Unwind and add ranking just like in vector search\n",
    "                    {\"$unwind\": {\"path\": \"$docs\", \"includeArrayIndex\": \"rank\"}},\n",
    "                    # Calculate a full-text search score based on rank\n",
    "                    # Using the same formula as vector search\n",
    "                    {\n",
    "                        \"$addFields\": {\n",
    "                            \"fts_score\": {\n",
    "                                \"$multiply\": [\n",
    "                                    full_text_weight,\n",
    "                                    {\"$divide\": [1.0, {\"$add\": [\"$rank\", 60]}]}\n",
    "                                ] # Score formula: 1/(rank+60)\n",
    "                            },\n",
    "                        },\n",
    "                    },\n",
    "                    # Project only the needed fields for text search results\n",
    "                    {\n",
    "                        \"$project\": {\n",
    "                            \"fts_score\": 1,\n",
    "                            \"_id\": \"$docs._id\",\n",
    "                            \"review\": \"$docs.review\",\n",
    "                            \"drugName\": \"$docs.drugName\",\n",
    "                            \"condition\": \"$docs.condition\",\n",
    "                        }\n",
    "                    },\n",
    "                ]\n",
    "            },\n",
    "        },\n",
    "        # PART 3: COMBINING RESULTS\n",
    "        # Group by document ID to handle duplicates from both searches\n",
    "        # This ensures we don't return the same document twice\n",
    "        {\n",
    "            \"$group\": {\n",
    "            \"_id\": \"$_id\",\n",
    "            \"review\": {\"$first\": \"$review\"},\n",
    "            \"drugName\": {\"$first\": \"$drugName\"},\n",
    "            \"condition\": {\"$first\": \"$condition\"},\n",
    "            \"vs_score\": {\n",
    "                \"$max\": \"$vs_score\"\n",
    "                }, # Take highest vector score if present in both\n",
    "            \"fts_score\": {\n",
    "                \"$max\": \"$fts_score\"\n",
    "                }, # Take highest text score if present in both\n",
    "            }\n",
    "        },\n",
    "        # Handle documents that only appeared in one search type\n",
    "        # by setting missing scores to 0\n",
    "        {\n",
    "            \"$project\": {\n",
    "                \"_id\": 1,\n",
    "                \"review\": 1,\n",
    "                \"drugName\": 1,\n",
    "                \"condition\": 1,\n",
    "                \"vs_score\": {\n",
    "                    \"$ifNull\": [\"$vs_score\", 0]\n",
    "                    }, # Default to 0 if not in vector results\n",
    "                \"fts_score\": {\n",
    "                    \"$ifNull\": [\"$fts_score\", 0]\n",
    "                    }, # Default to 0 if not in text results\n",
    "            }\n",
    "        },\n",
    "        # Calculate the final combined score and remove _id from results\n",
    "        {\n",
    "            \"$project\": {\n",
    "            \"score\": {\"$add\": [\"$fts_score\", \"$vs_score\"]}, # Combined fi\n",
    "            \"_id\": 0, # Exclude MongoDB ID\n",
    "            \"review\": 1,\n",
    "            \"drugName\": 1,\n",
    "            \"condition\": 1,\n",
    "            \"vs_score\": 1, # Keep individual scores for analysis\n",
    "            \"fts_score\": 1,\n",
    "            }\n",
    "        },\n",
    "        # Sort by the combined score in descending order\n",
    "        {\"$sort\": {\"score\": -1}},\n",
    "        # Return only the top k results based on combined score\n",
    "        {\"$limit\": top_k},\n",
    "    ]\n",
    " # Execute the aggregation pipeline and convert results to a list\n",
    "    cursor = await collection.aggregate(pipeline)\n",
    "    results = [doc async for doc in cursor]\n",
    "    return list(results)"
   ]
  },
  {
   "cell_type": "code",
   "execution_count": 226,
   "id": "c4c64e34",
   "metadata": {},
   "outputs": [],
   "source": [
    "query_text = \"I have a cough, what drug would be best?\"\n",
    "\n",
    "get_knowledge_hybrid_mdb =  hybrid_search_with_mongodb(\n",
    "    query_text, \n",
    "    drug_reviews_collection, \n",
    "    vector_weight=0.5, \n",
    "    full_text_weight=0.5, \n",
    "    top_k=10, \n",
    "    text_search_paths=[\n",
    "        \"review\",\n",
    "        \"condition\",\n",
    "        \"drugName\",\n",
    "    ], \n",
    ")"
   ]
  },
  {
   "cell_type": "code",
   "execution_count": 227,
   "id": "6d9a3210",
   "metadata": {},
   "outputs": [
    {
     "ename": "ValueError",
     "evalue": "DataFrame constructor not properly called!",
     "output_type": "error",
     "traceback": [
      "\u001b[31m---------------------------------------------------------------------------\u001b[39m",
      "\u001b[31mValueError\u001b[39m                                Traceback (most recent call last)",
      "\u001b[32m~\\AppData\\Local\\Temp\\ipykernel_13000\\2269841591.py\u001b[39m in \u001b[36m?\u001b[39m\u001b[34m()\u001b[39m\n\u001b[32m----> \u001b[39m\u001b[32m1\u001b[39m pd.DataFrame(get_knowledge_hybrid_mdb).head()\n",
      "\u001b[32md:\\My Files\\RAG-Techniques\\.venv\\Lib\\site-packages\\pandas\\core\\frame.py\u001b[39m in \u001b[36m?\u001b[39m\u001b[34m(self, data, index, columns, dtype, copy)\u001b[39m\n\u001b[32m    882\u001b[39m                 )\n\u001b[32m    883\u001b[39m         \u001b[38;5;66;03m# For data is scalar\u001b[39;00m\n\u001b[32m    884\u001b[39m         \u001b[38;5;28;01melse\u001b[39;00m:\n\u001b[32m    885\u001b[39m             \u001b[38;5;28;01mif\u001b[39;00m index \u001b[38;5;28;01mis\u001b[39;00m \u001b[38;5;28;01mNone\u001b[39;00m \u001b[38;5;28;01mor\u001b[39;00m columns \u001b[38;5;28;01mis\u001b[39;00m \u001b[38;5;28;01mNone\u001b[39;00m:\n\u001b[32m--> \u001b[39m\u001b[32m886\u001b[39m                 \u001b[38;5;28;01mraise\u001b[39;00m ValueError(\u001b[33m\"DataFrame constructor not properly called!\"\u001b[39m)\n\u001b[32m    887\u001b[39m \n\u001b[32m    888\u001b[39m             index = ensure_index(index)\n\u001b[32m    889\u001b[39m             columns = ensure_index(columns)\n",
      "\u001b[31mValueError\u001b[39m: DataFrame constructor not properly called!"
     ]
    }
   ],
   "source": [
    "pd.DataFrame(get_knowledge_hybrid_mdb).head()"
   ]
  },
  {
   "cell_type": "markdown",
   "id": "85867113",
   "metadata": {},
   "source": [
    "#Building Intelligent Search System"
   ]
  },
  {
   "cell_type": "code",
   "execution_count": 228,
   "id": "27ad9b1b",
   "metadata": {},
   "outputs": [],
   "source": [
    "async def custom_rag_pipeline(user_query, collection):\n",
    "    \"\"\"\n",
    "    Implements a custom Retrieval-Augmented Generation (RAG) pipeline.\n",
    "    Args:\n",
    "    user_query (str): The user's question or query.\n",
    "    collection (MongoCollection): MongoDB collection to search for relevan\n",
    "    Returns:\n",
    "    str: The LLM-generated response with citations.\n",
    "    \"\"\"\n",
    "    retrieved_docs = hybrid_search_with_mongodb(\n",
    "        user_query,\n",
    "        collection,\n",
    "        vector_search_index_name=vector_search_float32_ann_index_name,\n",
    "    )\n",
    "    formatted_context = \"\"\n",
    "    if retrieved_docs and len(retrieved_docs) > 0:\n",
    "        formatted_context = \"\\n\\nRelevant information from drug reviews:\\n\\n\"\n",
    "\n",
    "    async for i, doc in enumerate(retrieved_docs):\n",
    "        review = doc.get(\"review\", \"No review available\")\n",
    "        condition = doc.get(\"condition\", \"No condition available\")\n",
    "        drug_name = doc.get(\"drugName\", \"No drug name available\")\n",
    "        formatted_context += f\"[{i+1}] Review: {review}\\nCondition: {condition}\\nDrug Name: {drug_name}\\n\\n\"\n",
    "\n",
    "    prompt = f\"\"\"\n",
    "        Based on the following information, please answer the user's question:\n",
    "        User Question: {user_query}\n",
    "        {formatted_context}\n",
    "        Please provide a comprehensive answer based on the information above.\n",
    "        If the provided information does not contain the answer, state that clearly.\n",
    "        Include citation numbers [X] to indicate which sources were used for specific \n",
    "        \"\"\"\n",
    "    response = await llm.ainvoke(prompt.format(user_query=user_query, context=formatted_context))\n",
    "    return response"
   ]
  },
  {
   "cell_type": "code",
   "execution_count": 229,
   "id": "61d1423c",
   "metadata": {},
   "outputs": [
    {
     "ename": "TypeError",
     "evalue": "object of type 'coroutine' has no len()",
     "output_type": "error",
     "traceback": [
      "\u001b[31m---------------------------------------------------------------------------\u001b[39m",
      "\u001b[31mTypeError\u001b[39m                                 Traceback (most recent call last)",
      "\u001b[36mCell\u001b[39m\u001b[36m \u001b[39m\u001b[32mIn[229]\u001b[39m\u001b[32m, line 3\u001b[39m\n\u001b[32m      1\u001b[39m user_query = \u001b[33m\"\u001b[39m\u001b[33mI have a cough, can you help me with some medications\u001b[39m\u001b[33m\"\u001b[39m\n\u001b[32m----> \u001b[39m\u001b[32m3\u001b[39m \u001b[43masyncio\u001b[49m\u001b[43m.\u001b[49m\u001b[43mrun\u001b[49m\u001b[43m(\u001b[49m\u001b[43mcustom_rag_pipeline\u001b[49m\u001b[43m(\u001b[49m\u001b[43muser_query\u001b[49m\u001b[43m,\u001b[49m\u001b[43m \u001b[49m\u001b[43mdrug_reviews_collection\u001b[49m\u001b[43m)\u001b[49m\u001b[43m)\u001b[49m\n",
      "\u001b[36mFile \u001b[39m\u001b[32md:\\My Files\\RAG-Techniques\\.venv\\Lib\\site-packages\\nest_asyncio.py:30\u001b[39m, in \u001b[36m_patch_asyncio.<locals>.run\u001b[39m\u001b[34m(main, debug)\u001b[39m\n\u001b[32m     28\u001b[39m task = asyncio.ensure_future(main)\n\u001b[32m     29\u001b[39m \u001b[38;5;28;01mtry\u001b[39;00m:\n\u001b[32m---> \u001b[39m\u001b[32m30\u001b[39m     \u001b[38;5;28;01mreturn\u001b[39;00m \u001b[43mloop\u001b[49m\u001b[43m.\u001b[49m\u001b[43mrun_until_complete\u001b[49m\u001b[43m(\u001b[49m\u001b[43mtask\u001b[49m\u001b[43m)\u001b[49m\n\u001b[32m     31\u001b[39m \u001b[38;5;28;01mfinally\u001b[39;00m:\n\u001b[32m     32\u001b[39m     \u001b[38;5;28;01mif\u001b[39;00m \u001b[38;5;129;01mnot\u001b[39;00m task.done():\n",
      "\u001b[36mFile \u001b[39m\u001b[32md:\\My Files\\RAG-Techniques\\.venv\\Lib\\site-packages\\nest_asyncio.py:98\u001b[39m, in \u001b[36m_patch_loop.<locals>.run_until_complete\u001b[39m\u001b[34m(self, future)\u001b[39m\n\u001b[32m     95\u001b[39m \u001b[38;5;28;01mif\u001b[39;00m \u001b[38;5;129;01mnot\u001b[39;00m f.done():\n\u001b[32m     96\u001b[39m     \u001b[38;5;28;01mraise\u001b[39;00m \u001b[38;5;167;01mRuntimeError\u001b[39;00m(\n\u001b[32m     97\u001b[39m         \u001b[33m'\u001b[39m\u001b[33mEvent loop stopped before Future completed.\u001b[39m\u001b[33m'\u001b[39m)\n\u001b[32m---> \u001b[39m\u001b[32m98\u001b[39m \u001b[38;5;28;01mreturn\u001b[39;00m \u001b[43mf\u001b[49m\u001b[43m.\u001b[49m\u001b[43mresult\u001b[49m\u001b[43m(\u001b[49m\u001b[43m)\u001b[49m\n",
      "\u001b[36mFile \u001b[39m\u001b[32m~\\AppData\\Roaming\\uv\\python\\cpython-3.13.3-windows-x86_64-none\\Lib\\asyncio\\futures.py:199\u001b[39m, in \u001b[36mFuture.result\u001b[39m\u001b[34m(self)\u001b[39m\n\u001b[32m    197\u001b[39m \u001b[38;5;28mself\u001b[39m.__log_traceback = \u001b[38;5;28;01mFalse\u001b[39;00m\n\u001b[32m    198\u001b[39m \u001b[38;5;28;01mif\u001b[39;00m \u001b[38;5;28mself\u001b[39m._exception \u001b[38;5;129;01mis\u001b[39;00m \u001b[38;5;129;01mnot\u001b[39;00m \u001b[38;5;28;01mNone\u001b[39;00m:\n\u001b[32m--> \u001b[39m\u001b[32m199\u001b[39m     \u001b[38;5;28;01mraise\u001b[39;00m \u001b[38;5;28mself\u001b[39m._exception.with_traceback(\u001b[38;5;28mself\u001b[39m._exception_tb)\n\u001b[32m    200\u001b[39m \u001b[38;5;28;01mreturn\u001b[39;00m \u001b[38;5;28mself\u001b[39m._result\n",
      "\u001b[36mFile \u001b[39m\u001b[32m~\\AppData\\Roaming\\uv\\python\\cpython-3.13.3-windows-x86_64-none\\Lib\\asyncio\\tasks.py:304\u001b[39m, in \u001b[36mTask.__step_run_and_handle_result\u001b[39m\u001b[34m(***failed resolving arguments***)\u001b[39m\n\u001b[32m    300\u001b[39m \u001b[38;5;28;01mtry\u001b[39;00m:\n\u001b[32m    301\u001b[39m     \u001b[38;5;28;01mif\u001b[39;00m exc \u001b[38;5;129;01mis\u001b[39;00m \u001b[38;5;28;01mNone\u001b[39;00m:\n\u001b[32m    302\u001b[39m         \u001b[38;5;66;03m# We use the `send` method directly, because coroutines\u001b[39;00m\n\u001b[32m    303\u001b[39m         \u001b[38;5;66;03m# don't have `__iter__` and `__next__` methods.\u001b[39;00m\n\u001b[32m--> \u001b[39m\u001b[32m304\u001b[39m         result = \u001b[43mcoro\u001b[49m\u001b[43m.\u001b[49m\u001b[43msend\u001b[49m\u001b[43m(\u001b[49m\u001b[38;5;28;43;01mNone\u001b[39;49;00m\u001b[43m)\u001b[49m\n\u001b[32m    305\u001b[39m     \u001b[38;5;28;01melse\u001b[39;00m:\n\u001b[32m    306\u001b[39m         result = coro.throw(exc)\n",
      "\u001b[36mCell\u001b[39m\u001b[36m \u001b[39m\u001b[32mIn[228]\u001b[39m\u001b[32m, line 16\u001b[39m, in \u001b[36mcustom_rag_pipeline\u001b[39m\u001b[34m(user_query, collection)\u001b[39m\n\u001b[32m     10\u001b[39m retrieved_docs = hybrid_search_with_mongodb(\n\u001b[32m     11\u001b[39m     user_query,\n\u001b[32m     12\u001b[39m     collection,\n\u001b[32m     13\u001b[39m     vector_search_index_name=vector_search_float32_ann_index_name,\n\u001b[32m     14\u001b[39m )\n\u001b[32m     15\u001b[39m formatted_context = \u001b[33m\"\u001b[39m\u001b[33m\"\u001b[39m\n\u001b[32m---> \u001b[39m\u001b[32m16\u001b[39m \u001b[38;5;28;01mif\u001b[39;00m retrieved_docs \u001b[38;5;129;01mand\u001b[39;00m \u001b[38;5;28;43mlen\u001b[39;49m\u001b[43m(\u001b[49m\u001b[43mretrieved_docs\u001b[49m\u001b[43m)\u001b[49m > \u001b[32m0\u001b[39m:\n\u001b[32m     17\u001b[39m     formatted_context = \u001b[33m\"\u001b[39m\u001b[38;5;130;01m\\n\u001b[39;00m\u001b[38;5;130;01m\\n\u001b[39;00m\u001b[33mRelevant information from drug reviews:\u001b[39m\u001b[38;5;130;01m\\n\u001b[39;00m\u001b[38;5;130;01m\\n\u001b[39;00m\u001b[33m\"\u001b[39m\n\u001b[32m     19\u001b[39m \u001b[38;5;28;01masync\u001b[39;00m \u001b[38;5;28;01mfor\u001b[39;00m i, doc \u001b[38;5;129;01min\u001b[39;00m \u001b[38;5;28menumerate\u001b[39m(retrieved_docs):\n",
      "\u001b[31mTypeError\u001b[39m: object of type 'coroutine' has no len()"
     ]
    }
   ],
   "source": [
    "user_query = \"I have a cough, can you help me with some medications\"\n",
    "\n",
    "asyncio.run(custom_rag_pipeline(user_query, drug_reviews_collection))"
   ]
  },
  {
   "cell_type": "markdown",
   "id": "56b9f7a1",
   "metadata": {},
   "source": [
    "#AI Agent Creation"
   ]
  },
  {
   "cell_type": "code",
   "execution_count": null,
   "id": "3f50614d",
   "metadata": {},
   "outputs": [],
   "source": [
    "instructions=\"\"\"\n",
    " You are a virtual primary care assistant dedicated to providing reliable\n",
    " and evidence-based health guidance. Your role is to help patients understand\n",
    " their primary care needs, triage symptoms, answer common health question\n",
    " when to seek further medical care. Ensure that your responses are clear,\n",
    " and informed by current medical guidelines, always prioritizing patient care.\n",
    " Input: {input}\n",
    "\"\"\"\n",
    "virtual_primary_care_assistant = instructions | llm\n",
    "\n",
    "run_result = virtual_primary_care_assistant.invoke({\"input\": \"Get me information on cough medications and their reviews.\"})\n",
    "print(run_result.content)"
   ]
  }
 ],
 "metadata": {
  "kernelspec": {
   "display_name": ".venv",
   "language": "python",
   "name": "python3"
  },
  "language_info": {
   "codemirror_mode": {
    "name": "ipython",
    "version": 3
   },
   "file_extension": ".py",
   "mimetype": "text/x-python",
   "name": "python",
   "nbconvert_exporter": "python",
   "pygments_lexer": "ipython3",
   "version": "3.13.3"
  }
 },
 "nbformat": 4,
 "nbformat_minor": 5
}
